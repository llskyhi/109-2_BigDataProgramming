{
  "nbformat": 4,
  "nbformat_minor": 0,
  "metadata": {
    "colab": {
      "name": "0316_作業.ipynb",
      "provenance": [],
      "collapsed_sections": [],
      "include_colab_link": true
    },
    "kernelspec": {
      "name": "ir",
      "display_name": "R"
    }
  },
  "cells": [
    {
      "cell_type": "markdown",
      "metadata": {
        "id": "view-in-github",
        "colab_type": "text"
      },
      "source": [
        "<a href=\"https://colab.research.google.com/github/llskyhi/109-2_BigDataProgramming/blob/main/0316_%E4%BD%9C%E6%A5%AD.ipynb\" target=\"_parent\"><img src=\"https://colab.research.google.com/assets/colab-badge.svg\" alt=\"Open In Colab\"/></a>"
      ]
    },
    {
      "cell_type": "code",
      "metadata": {
        "id": "lFIVAmERTnkc"
      },
      "source": [
        "# 臺中市政府警察局109年12月份交通事故資料 https://data.gov.tw/dataset/137878\r\n",
        "url <- \"https://datacenter.taichung.gov.tw/swagger/OpenData/c6c57073-c64f-48a2-b24f-78612e8cccb1\"\r\n",
        "dataset <- jsonlite::fromJSON(url)"
      ],
      "execution_count": 78,
      "outputs": []
    },
    {
      "cell_type": "code",
      "metadata": {
        "colab": {
          "base_uri": "https://localhost:8080/"
        },
        "id": "rUJilAGyVSHM",
        "outputId": "603bdb60-150a-4564-db27-b847fc23dfd7"
      },
      "source": [
        "str(dataset)"
      ],
      "execution_count": 79,
      "outputs": [
        {
          "output_type": "stream",
          "text": [
            "'data.frame':\t8123 obs. of  50 variables:\n",
            " $ 年                : chr  \"2020\" \"2020\" \"2020\" \"2020\" ...\n",
            " $ 月                : chr  \"12\" \"12\" \"12\" \"12\" ...\n",
            " $ 日                : chr  \"1\" \"1\" \"1\" \"1\" ...\n",
            " $ 時                : chr  \"0\" \"3\" \"5\" \"5\" ...\n",
            " $ 分                : chr  \"26\" \"42\" \"24\" \"52\" ...\n",
            " $ 縣市              : chr  \"臺中市\" \"臺中市\" \"臺中市\" \"臺中市\" ...\n",
            " $ 區                : chr  \"北屯區\" \"神岡區\" \"大甲區\" \"后里區\" ...\n",
            " $ 死                : chr  \"0\" \"0\" \"0\" \"0\" ...\n",
            " $ 受傷              : chr  \"2\" \"0\" \"1\" \"2\" ...\n",
            " $ 2_30              : chr  \"0\" \"0\" \"0\" \"0\" ...\n",
            " $ 天候              : chr  \"8\" \"8\" \"7\" \"8\" ...\n",
            " $ 光線              : chr  \"3\" \"\" \"3\" \"3\" ...\n",
            " $ 道路類別          : chr  \"5\" \"\" \"5\" \"5\" ...\n",
            " $ 速限              : chr  \"50\" \"50\" \"50\" \"50\" ...\n",
            " $ 道路型態          : chr  \"5\" \"\" \"4\" \"14\" ...\n",
            " $ 事故位置          : chr  \"1\" \"\" \"1\" \"9\" ...\n",
            " $ 路面鋪裝          : chr  \"1\" \"\" \"1\" \"1\" ...\n",
            " $ 路面狀態          : chr  \"5\" \"\" \"5\" \"5\" ...\n",
            " $ 路面缺陷          : chr  \"4\" \"\" \"4\" \"4\" ...\n",
            " $ 障礙物            : chr  \"5\" \"\" \"5\" \"5\" ...\n",
            " $ 視距              : chr  \"7\" \"\" \"7\" \"7\" ...\n",
            " $ 號誌種類          : chr  \"1\" \"\" \"3\" \"4\" ...\n",
            " $ 號誌動作          : chr  \"1\" \"\" \"1\" \"4\" ...\n",
            " $ 分向設施          : chr  \"10\" \"\" \"10\" \"9\" ...\n",
            " $ 快車道或一般車道間: chr  \"5\" \"\" \"5\" \"5\" ...\n",
            " $ 快慢車道間        : chr  \"5\" \"\" \"5\" \"5\" ...\n",
            " $ 路面邊線          : chr  \"2\" \"\" \"2\" \"2\" ...\n",
            " $ 事故類型及型態    : chr  \"13\" \"\" \"15\" \"2\" ...\n",
            " $ 主要肇因          : chr  \"42\" \"\" \"6\" \"23\" ...\n",
            " $ 受傷程度          : chr  \"2\" \"\" \"2\" \"2\" ...\n",
            " $ 主要傷處          : chr  \"9\" \"\" \"9\" \"9\" ...\n",
            " $ 保護裝備          : chr  \"3\" \"\" \"1\" \"1\" ...\n",
            " $ 行動電話          : chr  \"4\" \"\" \"1\" \"1\" ...\n",
            " $ 當事者區分        : chr  \"C03\" \"B02\" \"B03\" \"C03\" ...\n",
            " $ 車輛用途          : chr  \"7\" \"\" \"7\" \"7\" ...\n",
            " $ 當事者行動狀態    : chr  \"9\" \"\" \"9\" \"9\" ...\n",
            " $ 駕駛資格情形      : chr  \"1\" \"1\" \"1\" \"1\" ...\n",
            " $ 駕駛執照種類      : chr  \"10\" \"\" \"8\" \"10\" ...\n",
            " $ 飲酒情形          : chr  \"2\" \"2\" \"2\" \"2\" ...\n",
            " $ 車輛撞擊部位最初  : chr  \"11\" \"\" \"2\" \"11\" ...\n",
            " $ 車輛撞擊部位其他  : chr  \"\" \"\" \"\" \"\" ...\n",
            " $ 肇事因素個別      : chr  \"42\" \"48\" \"6\" \"23\" ...\n",
            " $ 肇事因素主要      : chr  \"42\" \"\" \"6\" \"23\" ...\n",
            " $ 肇事逃逸          : chr  \"1\" \"1\" \"1\" \"1\" ...\n",
            " $ 職業              : chr  \"21\" \"22\" \"5\" \"21\" ...\n",
            " $ 旅次目的          : chr  \"8\" \"\" \"8\" \"8\" ...\n",
            " $ 車種              : chr  \"C03\" \"B02\" \"B03\" \"C03\" ...\n",
            " $ GPS緯度           : chr  \"120.673711\" \"120.692544\" \"120.621853\" \"120.691001\" ...\n",
            " $ GPS經度           : chr  \"24.173844\" \"24.24845\" \"24.353386\" \"24.319398\" ...\n",
            " $ 事故類別          : chr  \"2\" \"3\" \"2\" \"2\" ...\n"
          ],
          "name": "stdout"
        }
      ]
    },
    {
      "cell_type": "code",
      "metadata": {
        "colab": {
          "base_uri": "https://localhost:8080/",
          "height": 101
        },
        "id": "mIKTFn08VWwb",
        "outputId": "28934421-d57a-47d1-a5cd-2e7ceaae1ee7"
      },
      "source": [
        "dim(dataset)\r\n",
        "colnames(dataset)"
      ],
      "execution_count": 80,
      "outputs": [
        {
          "output_type": "display_data",
          "data": {
            "text/plain": [
              "[1] 8123   50"
            ],
            "text/latex": "\\begin{enumerate*}\n\\item 8123\n\\item 50\n\\end{enumerate*}\n",
            "text/markdown": "1. 8123\n2. 50\n\n\n",
            "text/html": [
              "<style>\n",
              ".list-inline {list-style: none; margin:0; padding: 0}\n",
              ".list-inline>li {display: inline-block}\n",
              ".list-inline>li:not(:last-child)::after {content: \"\\00b7\"; padding: 0 .5ex}\n",
              "</style>\n",
              "<ol class=list-inline><li>8123</li><li>50</li></ol>\n"
            ]
          },
          "metadata": {
            "tags": []
          }
        },
        {
          "output_type": "display_data",
          "data": {
            "text/plain": [
              " [1] \"年\"                 \"月\"                 \"日\"                \n",
              " [4] \"時\"                 \"分\"                 \"縣市\"              \n",
              " [7] \"區\"                 \"死\"                 \"受傷\"              \n",
              "[10] \"2_30\"               \"天候\"               \"光線\"              \n",
              "[13] \"道路類別\"           \"速限\"               \"道路型態\"          \n",
              "[16] \"事故位置\"           \"路面鋪裝\"           \"路面狀態\"          \n",
              "[19] \"路面缺陷\"           \"障礙物\"             \"視距\"              \n",
              "[22] \"號誌種類\"           \"號誌動作\"           \"分向設施\"          \n",
              "[25] \"快車道或一般車道間\" \"快慢車道間\"         \"路面邊線\"          \n",
              "[28] \"事故類型及型態\"     \"主要肇因\"           \"受傷程度\"          \n",
              "[31] \"主要傷處\"           \"保護裝備\"           \"行動電話\"          \n",
              "[34] \"當事者區分\"         \"車輛用途\"           \"當事者行動狀態\"    \n",
              "[37] \"駕駛資格情形\"       \"駕駛執照種類\"       \"飲酒情形\"          \n",
              "[40] \"車輛撞擊部位最初\"   \"車輛撞擊部位其他\"   \"肇事因素個別\"      \n",
              "[43] \"肇事因素主要\"       \"肇事逃逸\"           \"職業\"              \n",
              "[46] \"旅次目的\"           \"車種\"               \"GPS緯度\"           \n",
              "[49] \"GPS經度\"            \"事故類別\"          "
            ],
            "text/latex": "\\begin{enumerate*}\n\\item '年'\n\\item '月'\n\\item '日'\n\\item '時'\n\\item '分'\n\\item '縣市'\n\\item '區'\n\\item '死'\n\\item '受傷'\n\\item '2\\_30'\n\\item '天候'\n\\item '光線'\n\\item '道路類別'\n\\item '速限'\n\\item '道路型態'\n\\item '事故位置'\n\\item '路面鋪裝'\n\\item '路面狀態'\n\\item '路面缺陷'\n\\item '障礙物'\n\\item '視距'\n\\item '號誌種類'\n\\item '號誌動作'\n\\item '分向設施'\n\\item '快車道或一般車道間'\n\\item '快慢車道間'\n\\item '路面邊線'\n\\item '事故類型及型態'\n\\item '主要肇因'\n\\item '受傷程度'\n\\item '主要傷處'\n\\item '保護裝備'\n\\item '行動電話'\n\\item '當事者區分'\n\\item '車輛用途'\n\\item '當事者行動狀態'\n\\item '駕駛資格情形'\n\\item '駕駛執照種類'\n\\item '飲酒情形'\n\\item '車輛撞擊部位最初'\n\\item '車輛撞擊部位其他'\n\\item '肇事因素個別'\n\\item '肇事因素主要'\n\\item '肇事逃逸'\n\\item '職業'\n\\item '旅次目的'\n\\item '車種'\n\\item 'GPS緯度'\n\\item 'GPS經度'\n\\item '事故類別'\n\\end{enumerate*}\n",
            "text/markdown": "1. '年'\n2. '月'\n3. '日'\n4. '時'\n5. '分'\n6. '縣市'\n7. '區'\n8. '死'\n9. '受傷'\n10. '2_30'\n11. '天候'\n12. '光線'\n13. '道路類別'\n14. '速限'\n15. '道路型態'\n16. '事故位置'\n17. '路面鋪裝'\n18. '路面狀態'\n19. '路面缺陷'\n20. '障礙物'\n21. '視距'\n22. '號誌種類'\n23. '號誌動作'\n24. '分向設施'\n25. '快車道或一般車道間'\n26. '快慢車道間'\n27. '路面邊線'\n28. '事故類型及型態'\n29. '主要肇因'\n30. '受傷程度'\n31. '主要傷處'\n32. '保護裝備'\n33. '行動電話'\n34. '當事者區分'\n35. '車輛用途'\n36. '當事者行動狀態'\n37. '駕駛資格情形'\n38. '駕駛執照種類'\n39. '飲酒情形'\n40. '車輛撞擊部位最初'\n41. '車輛撞擊部位其他'\n42. '肇事因素個別'\n43. '肇事因素主要'\n44. '肇事逃逸'\n45. '職業'\n46. '旅次目的'\n47. '車種'\n48. 'GPS緯度'\n49. 'GPS經度'\n50. '事故類別'\n\n\n",
            "text/html": [
              "<style>\n",
              ".list-inline {list-style: none; margin:0; padding: 0}\n",
              ".list-inline>li {display: inline-block}\n",
              ".list-inline>li:not(:last-child)::after {content: \"\\00b7\"; padding: 0 .5ex}\n",
              "</style>\n",
              "<ol class=list-inline><li>'年'</li><li>'月'</li><li>'日'</li><li>'時'</li><li>'分'</li><li>'縣市'</li><li>'區'</li><li>'死'</li><li>'受傷'</li><li>'2_30'</li><li>'天候'</li><li>'光線'</li><li>'道路類別'</li><li>'速限'</li><li>'道路型態'</li><li>'事故位置'</li><li>'路面鋪裝'</li><li>'路面狀態'</li><li>'路面缺陷'</li><li>'障礙物'</li><li>'視距'</li><li>'號誌種類'</li><li>'號誌動作'</li><li>'分向設施'</li><li>'快車道或一般車道間'</li><li>'快慢車道間'</li><li>'路面邊線'</li><li>'事故類型及型態'</li><li>'主要肇因'</li><li>'受傷程度'</li><li>'主要傷處'</li><li>'保護裝備'</li><li>'行動電話'</li><li>'當事者區分'</li><li>'車輛用途'</li><li>'當事者行動狀態'</li><li>'駕駛資格情形'</li><li>'駕駛執照種類'</li><li>'飲酒情形'</li><li>'車輛撞擊部位最初'</li><li>'車輛撞擊部位其他'</li><li>'肇事因素個別'</li><li>'肇事因素主要'</li><li>'肇事逃逸'</li><li>'職業'</li><li>'旅次目的'</li><li>'車種'</li><li>'GPS緯度'</li><li>'GPS經度'</li><li>'事故類別'</li></ol>\n"
            ]
          },
          "metadata": {
            "tags": []
          }
        }
      ]
    },
    {
      "cell_type": "code",
      "metadata": {
        "colab": {
          "base_uri": "https://localhost:8080/",
          "height": 303
        },
        "id": "mnWDXr_4V9xD",
        "outputId": "8d6e2469-288a-4a5c-905e-d5905e9e1fb7"
      },
      "source": [
        "head(dataset, 3)"
      ],
      "execution_count": 81,
      "outputs": [
        {
          "output_type": "display_data",
          "data": {
            "text/plain": [
              "  年   月 日 時 分 縣市   區     死 受傷 2_30 ⋯ 車輛撞擊部位其他 肇事因素個別\n",
              "1 2020 12 1  0  26 臺中市 北屯區 0  2    0    ⋯                  42          \n",
              "2 2020 12 1  3  42 臺中市 神岡區 0  0    0    ⋯                  48          \n",
              "3 2020 12 1  5  24 臺中市 大甲區 0  1    0    ⋯                  6           \n",
              "  肇事因素主要 肇事逃逸 職業 旅次目的 車種 GPS緯度    GPS經度   事故類別\n",
              "1 42           1        21   8        C03  120.673711 24.173844 2       \n",
              "2              1        22            B02  120.692544 24.24845  3       \n",
              "3 6            1        5    8        B03  120.621853 24.353386 2       "
            ],
            "text/latex": "A data.frame: 3 × 50\n\\begin{tabular}{r|lllllllllllllllllllll}\n  & 年 & 月 & 日 & 時 & 分 & 縣市 & 區 & 死 & 受傷 & 2\\_30 & ⋯ & 車輛撞擊部位其他 & 肇事因素個別 & 肇事因素主要 & 肇事逃逸 & 職業 & 旅次目的 & 車種 & GPS緯度 & GPS經度 & 事故類別\\\\\n  & <chr> & <chr> & <chr> & <chr> & <chr> & <chr> & <chr> & <chr> & <chr> & <chr> & ⋯ & <chr> & <chr> & <chr> & <chr> & <chr> & <chr> & <chr> & <chr> & <chr> & <chr>\\\\\n\\hline\n\t1 & 2020 & 12 & 1 & 0 & 26 & 臺中市 & 北屯區 & 0 & 2 & 0 & ⋯ &  & 42 & 42 & 1 & 21 & 8 & C03 & 120.673711 & 24.173844 & 2\\\\\n\t2 & 2020 & 12 & 1 & 3 & 42 & 臺中市 & 神岡區 & 0 & 0 & 0 & ⋯ &  & 48 &    & 1 & 22 &   & B02 & 120.692544 & 24.24845  & 3\\\\\n\t3 & 2020 & 12 & 1 & 5 & 24 & 臺中市 & 大甲區 & 0 & 1 & 0 & ⋯ &  & 6  & 6  & 1 & 5  & 8 & B03 & 120.621853 & 24.353386 & 2\\\\\n\\end{tabular}\n",
            "text/markdown": "\nA data.frame: 3 × 50\n\n| <!--/--> | 年 &lt;chr&gt; | 月 &lt;chr&gt; | 日 &lt;chr&gt; | 時 &lt;chr&gt; | 分 &lt;chr&gt; | 縣市 &lt;chr&gt; | 區 &lt;chr&gt; | 死 &lt;chr&gt; | 受傷 &lt;chr&gt; | 2_30 &lt;chr&gt; | ⋯ ⋯ | 車輛撞擊部位其他 &lt;chr&gt; | 肇事因素個別 &lt;chr&gt; | 肇事因素主要 &lt;chr&gt; | 肇事逃逸 &lt;chr&gt; | 職業 &lt;chr&gt; | 旅次目的 &lt;chr&gt; | 車種 &lt;chr&gt; | GPS緯度 &lt;chr&gt; | GPS經度 &lt;chr&gt; | 事故類別 &lt;chr&gt; |\n|---|---|---|---|---|---|---|---|---|---|---|---|---|---|---|---|---|---|---|---|---|---|\n| 1 | 2020 | 12 | 1 | 0 | 26 | 臺中市 | 北屯區 | 0 | 2 | 0 | ⋯ | <!----> | 42 | 42 | 1 | 21 | 8 | C03 | 120.673711 | 24.173844 | 2 |\n| 2 | 2020 | 12 | 1 | 3 | 42 | 臺中市 | 神岡區 | 0 | 0 | 0 | ⋯ | <!----> | 48 | <!----> | 1 | 22 | <!----> | B02 | 120.692544 | 24.24845  | 3 |\n| 3 | 2020 | 12 | 1 | 5 | 24 | 臺中市 | 大甲區 | 0 | 1 | 0 | ⋯ | <!----> | 6  | 6  | 1 | 5  | 8 | B03 | 120.621853 | 24.353386 | 2 |\n\n",
            "text/html": [
              "<table class=\"dataframe\">\n",
              "<caption>A data.frame: 3 × 50</caption>\n",
              "<thead>\n",
              "\t<tr><th></th><th scope=col>年</th><th scope=col>月</th><th scope=col>日</th><th scope=col>時</th><th scope=col>分</th><th scope=col>縣市</th><th scope=col>區</th><th scope=col>死</th><th scope=col>受傷</th><th scope=col>2_30</th><th scope=col>⋯</th><th scope=col>車輛撞擊部位其他</th><th scope=col>肇事因素個別</th><th scope=col>肇事因素主要</th><th scope=col>肇事逃逸</th><th scope=col>職業</th><th scope=col>旅次目的</th><th scope=col>車種</th><th scope=col>GPS緯度</th><th scope=col>GPS經度</th><th scope=col>事故類別</th></tr>\n",
              "\t<tr><th></th><th scope=col>&lt;chr&gt;</th><th scope=col>&lt;chr&gt;</th><th scope=col>&lt;chr&gt;</th><th scope=col>&lt;chr&gt;</th><th scope=col>&lt;chr&gt;</th><th scope=col>&lt;chr&gt;</th><th scope=col>&lt;chr&gt;</th><th scope=col>&lt;chr&gt;</th><th scope=col>&lt;chr&gt;</th><th scope=col>&lt;chr&gt;</th><th scope=col>⋯</th><th scope=col>&lt;chr&gt;</th><th scope=col>&lt;chr&gt;</th><th scope=col>&lt;chr&gt;</th><th scope=col>&lt;chr&gt;</th><th scope=col>&lt;chr&gt;</th><th scope=col>&lt;chr&gt;</th><th scope=col>&lt;chr&gt;</th><th scope=col>&lt;chr&gt;</th><th scope=col>&lt;chr&gt;</th><th scope=col>&lt;chr&gt;</th></tr>\n",
              "</thead>\n",
              "<tbody>\n",
              "\t<tr><th scope=row>1</th><td>2020</td><td>12</td><td>1</td><td>0</td><td>26</td><td>臺中市</td><td>北屯區</td><td>0</td><td>2</td><td>0</td><td>⋯</td><td></td><td>42</td><td>42</td><td>1</td><td>21</td><td>8</td><td>C03</td><td>120.673711</td><td>24.173844</td><td>2</td></tr>\n",
              "\t<tr><th scope=row>2</th><td>2020</td><td>12</td><td>1</td><td>3</td><td>42</td><td>臺中市</td><td>神岡區</td><td>0</td><td>0</td><td>0</td><td>⋯</td><td></td><td>48</td><td>  </td><td>1</td><td>22</td><td> </td><td>B02</td><td>120.692544</td><td>24.24845 </td><td>3</td></tr>\n",
              "\t<tr><th scope=row>3</th><td>2020</td><td>12</td><td>1</td><td>5</td><td>24</td><td>臺中市</td><td>大甲區</td><td>0</td><td>1</td><td>0</td><td>⋯</td><td></td><td>6 </td><td>6 </td><td>1</td><td>5 </td><td>8</td><td>B03</td><td>120.621853</td><td>24.353386</td><td>2</td></tr>\n",
              "</tbody>\n",
              "</table>\n"
            ]
          },
          "metadata": {
            "tags": []
          }
        }
      ]
    },
    {
      "cell_type": "code",
      "metadata": {
        "colab": {
          "base_uri": "https://localhost:8080/",
          "height": 303
        },
        "id": "mpBqHRayWCyT",
        "outputId": "d97e7367-216d-4d44-8fb4-469f270eae22"
      },
      "source": [
        "tail(dataset, 3)"
      ],
      "execution_count": 82,
      "outputs": [
        {
          "output_type": "display_data",
          "data": {
            "text/plain": [
              "     年   月 日 時 分 縣市   區     死 受傷 2_30 ⋯ 車輛撞擊部位其他\n",
              "8121 2020 12 31 23 49 臺中市 西屯區 0  1    0    ⋯                 \n",
              "8122 2020 12 31 23 50 臺中市 沙鹿區 0  0    0    ⋯                 \n",
              "8123 2020 12 31 23 58 臺中市 西屯區 0  1    0    ⋯ 14              \n",
              "     肇事因素個別 肇事因素主要 肇事逃逸 職業 旅次目的 車種 GPS緯度    GPS經度  \n",
              "8121 6            6            1        22   8        B03  120.657109 24.197049\n",
              "8122 12                        1        4             B03  120.574863 24.226937\n",
              "8123 16           16           1        22   8        C03  120.65582  24.170283\n",
              "     事故類別\n",
              "8121 2       \n",
              "8122 3       \n",
              "8123 2       "
            ],
            "text/latex": "A data.frame: 3 × 50\n\\begin{tabular}{r|lllllllllllllllllllll}\n  & 年 & 月 & 日 & 時 & 分 & 縣市 & 區 & 死 & 受傷 & 2\\_30 & ⋯ & 車輛撞擊部位其他 & 肇事因素個別 & 肇事因素主要 & 肇事逃逸 & 職業 & 旅次目的 & 車種 & GPS緯度 & GPS經度 & 事故類別\\\\\n  & <chr> & <chr> & <chr> & <chr> & <chr> & <chr> & <chr> & <chr> & <chr> & <chr> & ⋯ & <chr> & <chr> & <chr> & <chr> & <chr> & <chr> & <chr> & <chr> & <chr> & <chr>\\\\\n\\hline\n\t8121 & 2020 & 12 & 31 & 23 & 49 & 臺中市 & 西屯區 & 0 & 1 & 0 & ⋯ &    & 6  & 6  & 1 & 22 & 8 & B03 & 120.657109 & 24.197049 & 2\\\\\n\t8122 & 2020 & 12 & 31 & 23 & 50 & 臺中市 & 沙鹿區 & 0 & 0 & 0 & ⋯ &    & 12 &    & 1 & 4  &   & B03 & 120.574863 & 24.226937 & 3\\\\\n\t8123 & 2020 & 12 & 31 & 23 & 58 & 臺中市 & 西屯區 & 0 & 1 & 0 & ⋯ & 14 & 16 & 16 & 1 & 22 & 8 & C03 & 120.65582  & 24.170283 & 2\\\\\n\\end{tabular}\n",
            "text/markdown": "\nA data.frame: 3 × 50\n\n| <!--/--> | 年 &lt;chr&gt; | 月 &lt;chr&gt; | 日 &lt;chr&gt; | 時 &lt;chr&gt; | 分 &lt;chr&gt; | 縣市 &lt;chr&gt; | 區 &lt;chr&gt; | 死 &lt;chr&gt; | 受傷 &lt;chr&gt; | 2_30 &lt;chr&gt; | ⋯ ⋯ | 車輛撞擊部位其他 &lt;chr&gt; | 肇事因素個別 &lt;chr&gt; | 肇事因素主要 &lt;chr&gt; | 肇事逃逸 &lt;chr&gt; | 職業 &lt;chr&gt; | 旅次目的 &lt;chr&gt; | 車種 &lt;chr&gt; | GPS緯度 &lt;chr&gt; | GPS經度 &lt;chr&gt; | 事故類別 &lt;chr&gt; |\n|---|---|---|---|---|---|---|---|---|---|---|---|---|---|---|---|---|---|---|---|---|---|\n| 8121 | 2020 | 12 | 31 | 23 | 49 | 臺中市 | 西屯區 | 0 | 1 | 0 | ⋯ | <!----> | 6  | 6  | 1 | 22 | 8 | B03 | 120.657109 | 24.197049 | 2 |\n| 8122 | 2020 | 12 | 31 | 23 | 50 | 臺中市 | 沙鹿區 | 0 | 0 | 0 | ⋯ | <!----> | 12 | <!----> | 1 | 4  | <!----> | B03 | 120.574863 | 24.226937 | 3 |\n| 8123 | 2020 | 12 | 31 | 23 | 58 | 臺中市 | 西屯區 | 0 | 1 | 0 | ⋯ | 14 | 16 | 16 | 1 | 22 | 8 | C03 | 120.65582  | 24.170283 | 2 |\n\n",
            "text/html": [
              "<table class=\"dataframe\">\n",
              "<caption>A data.frame: 3 × 50</caption>\n",
              "<thead>\n",
              "\t<tr><th></th><th scope=col>年</th><th scope=col>月</th><th scope=col>日</th><th scope=col>時</th><th scope=col>分</th><th scope=col>縣市</th><th scope=col>區</th><th scope=col>死</th><th scope=col>受傷</th><th scope=col>2_30</th><th scope=col>⋯</th><th scope=col>車輛撞擊部位其他</th><th scope=col>肇事因素個別</th><th scope=col>肇事因素主要</th><th scope=col>肇事逃逸</th><th scope=col>職業</th><th scope=col>旅次目的</th><th scope=col>車種</th><th scope=col>GPS緯度</th><th scope=col>GPS經度</th><th scope=col>事故類別</th></tr>\n",
              "\t<tr><th></th><th scope=col>&lt;chr&gt;</th><th scope=col>&lt;chr&gt;</th><th scope=col>&lt;chr&gt;</th><th scope=col>&lt;chr&gt;</th><th scope=col>&lt;chr&gt;</th><th scope=col>&lt;chr&gt;</th><th scope=col>&lt;chr&gt;</th><th scope=col>&lt;chr&gt;</th><th scope=col>&lt;chr&gt;</th><th scope=col>&lt;chr&gt;</th><th scope=col>⋯</th><th scope=col>&lt;chr&gt;</th><th scope=col>&lt;chr&gt;</th><th scope=col>&lt;chr&gt;</th><th scope=col>&lt;chr&gt;</th><th scope=col>&lt;chr&gt;</th><th scope=col>&lt;chr&gt;</th><th scope=col>&lt;chr&gt;</th><th scope=col>&lt;chr&gt;</th><th scope=col>&lt;chr&gt;</th><th scope=col>&lt;chr&gt;</th></tr>\n",
              "</thead>\n",
              "<tbody>\n",
              "\t<tr><th scope=row>8121</th><td>2020</td><td>12</td><td>31</td><td>23</td><td>49</td><td>臺中市</td><td>西屯區</td><td>0</td><td>1</td><td>0</td><td>⋯</td><td>  </td><td>6 </td><td>6 </td><td>1</td><td>22</td><td>8</td><td>B03</td><td>120.657109</td><td>24.197049</td><td>2</td></tr>\n",
              "\t<tr><th scope=row>8122</th><td>2020</td><td>12</td><td>31</td><td>23</td><td>50</td><td>臺中市</td><td>沙鹿區</td><td>0</td><td>0</td><td>0</td><td>⋯</td><td>  </td><td>12</td><td>  </td><td>1</td><td>4 </td><td> </td><td>B03</td><td>120.574863</td><td>24.226937</td><td>3</td></tr>\n",
              "\t<tr><th scope=row>8123</th><td>2020</td><td>12</td><td>31</td><td>23</td><td>58</td><td>臺中市</td><td>西屯區</td><td>0</td><td>1</td><td>0</td><td>⋯</td><td>14</td><td>16</td><td>16</td><td>1</td><td>22</td><td>8</td><td>C03</td><td>120.65582 </td><td>24.170283</td><td>2</td></tr>\n",
              "</tbody>\n",
              "</table>\n"
            ]
          },
          "metadata": {
            "tags": []
          }
        }
      ]
    },
    {
      "cell_type": "code",
      "metadata": {
        "colab": {
          "base_uri": "https://localhost:8080/",
          "height": 34
        },
        "id": "dFVKFM-QVbrT",
        "outputId": "0e5c7332-c3fa-4b6e-fa11-889366dc875e"
      },
      "source": [
        "length(grep(\"(北|北屯)區\", dataset$區))"
      ],
      "execution_count": 83,
      "outputs": [
        {
          "output_type": "display_data",
          "data": {
            "text/plain": [
              "[1] 1119"
            ],
            "text/latex": "1119",
            "text/markdown": "1119",
            "text/html": [
              "1119"
            ]
          },
          "metadata": {
            "tags": []
          }
        }
      ]
    },
    {
      "cell_type": "code",
      "metadata": {
        "colab": {
          "base_uri": "https://localhost:8080/",
          "height": 101
        },
        "id": "zYpJbB6SZ8uU",
        "outputId": "5db0fafa-d27b-4b20-9fec-439952422b8a"
      },
      "source": [
        "table(dataset$速限)"
      ],
      "execution_count": 84,
      "outputs": [
        {
          "output_type": "display_data",
          "data": {
            "text/plain": [
              "\n",
              "        0    1   10   15   20   25   30   35    4   40    5   50   60   70   80 \n",
              " 300    8   39   13    4    6   13  822    8    2  954    6 5263  402  149  117 \n",
              "  90 不詳 倒車 靜止 \n",
              "  13    1    2    1 "
            ]
          },
          "metadata": {
            "tags": []
          }
        }
      ]
    },
    {
      "cell_type": "code",
      "metadata": {
        "id": "twP8---2a5J2"
      },
      "source": [
        "speedLimit <- dataset$速限\r\n",
        "death <- dataset$死"
      ],
      "execution_count": 85,
      "outputs": []
    },
    {
      "cell_type": "code",
      "metadata": {
        "colab": {
          "base_uri": "https://localhost:8080/",
          "height": 257
        },
        "id": "wkmk8aOOYMdc",
        "outputId": "5c1d5981-07b4-4ebd-fba6-9eddcef43e4d"
      },
      "source": [
        "dataset[speedLimit>=60 & death>0,]"
      ],
      "execution_count": 86,
      "outputs": [
        {
          "output_type": "display_data",
          "data": {
            "text/plain": [
              "     年   月 日 時 分 縣市   區     死 受傷 2_30 ⋯ 車輛撞擊部位其他\n",
              "278  2020 12 1  22 20 臺中市 豐原區 1  0    0    ⋯                 \n",
              "5253 2020 12 21 17 43 臺中市 北屯區 1  1    0    ⋯                 \n",
              "     肇事因素個別 肇事因素主要 肇事逃逸 職業 旅次目的 車種 GPS緯度    GPS經度  \n",
              "278  21           21           1        21   8        C03  120.72008  24.263826\n",
              "5253 44           43           1        21   8        B03  120.718943 24.161183\n",
              "     事故類別\n",
              "278  1       \n",
              "5253 1       "
            ],
            "text/latex": "A data.frame: 2 × 50\n\\begin{tabular}{r|lllllllllllllllllllll}\n  & 年 & 月 & 日 & 時 & 分 & 縣市 & 區 & 死 & 受傷 & 2\\_30 & ⋯ & 車輛撞擊部位其他 & 肇事因素個別 & 肇事因素主要 & 肇事逃逸 & 職業 & 旅次目的 & 車種 & GPS緯度 & GPS經度 & 事故類別\\\\\n  & <chr> & <chr> & <chr> & <chr> & <chr> & <chr> & <chr> & <chr> & <chr> & <chr> & ⋯ & <chr> & <chr> & <chr> & <chr> & <chr> & <chr> & <chr> & <chr> & <chr> & <chr>\\\\\n\\hline\n\t278 & 2020 & 12 & 1  & 22 & 20 & 臺中市 & 豐原區 & 1 & 0 & 0 & ⋯ &  & 21 & 21 & 1 & 21 & 8 & C03 & 120.72008  & 24.263826 & 1\\\\\n\t5253 & 2020 & 12 & 21 & 17 & 43 & 臺中市 & 北屯區 & 1 & 1 & 0 & ⋯ &  & 44 & 43 & 1 & 21 & 8 & B03 & 120.718943 & 24.161183 & 1\\\\\n\\end{tabular}\n",
            "text/markdown": "\nA data.frame: 2 × 50\n\n| <!--/--> | 年 &lt;chr&gt; | 月 &lt;chr&gt; | 日 &lt;chr&gt; | 時 &lt;chr&gt; | 分 &lt;chr&gt; | 縣市 &lt;chr&gt; | 區 &lt;chr&gt; | 死 &lt;chr&gt; | 受傷 &lt;chr&gt; | 2_30 &lt;chr&gt; | ⋯ ⋯ | 車輛撞擊部位其他 &lt;chr&gt; | 肇事因素個別 &lt;chr&gt; | 肇事因素主要 &lt;chr&gt; | 肇事逃逸 &lt;chr&gt; | 職業 &lt;chr&gt; | 旅次目的 &lt;chr&gt; | 車種 &lt;chr&gt; | GPS緯度 &lt;chr&gt; | GPS經度 &lt;chr&gt; | 事故類別 &lt;chr&gt; |\n|---|---|---|---|---|---|---|---|---|---|---|---|---|---|---|---|---|---|---|---|---|---|\n| 278 | 2020 | 12 | 1  | 22 | 20 | 臺中市 | 豐原區 | 1 | 0 | 0 | ⋯ | <!----> | 21 | 21 | 1 | 21 | 8 | C03 | 120.72008  | 24.263826 | 1 |\n| 5253 | 2020 | 12 | 21 | 17 | 43 | 臺中市 | 北屯區 | 1 | 1 | 0 | ⋯ | <!----> | 44 | 43 | 1 | 21 | 8 | B03 | 120.718943 | 24.161183 | 1 |\n\n",
            "text/html": [
              "<table class=\"dataframe\">\n",
              "<caption>A data.frame: 2 × 50</caption>\n",
              "<thead>\n",
              "\t<tr><th></th><th scope=col>年</th><th scope=col>月</th><th scope=col>日</th><th scope=col>時</th><th scope=col>分</th><th scope=col>縣市</th><th scope=col>區</th><th scope=col>死</th><th scope=col>受傷</th><th scope=col>2_30</th><th scope=col>⋯</th><th scope=col>車輛撞擊部位其他</th><th scope=col>肇事因素個別</th><th scope=col>肇事因素主要</th><th scope=col>肇事逃逸</th><th scope=col>職業</th><th scope=col>旅次目的</th><th scope=col>車種</th><th scope=col>GPS緯度</th><th scope=col>GPS經度</th><th scope=col>事故類別</th></tr>\n",
              "\t<tr><th></th><th scope=col>&lt;chr&gt;</th><th scope=col>&lt;chr&gt;</th><th scope=col>&lt;chr&gt;</th><th scope=col>&lt;chr&gt;</th><th scope=col>&lt;chr&gt;</th><th scope=col>&lt;chr&gt;</th><th scope=col>&lt;chr&gt;</th><th scope=col>&lt;chr&gt;</th><th scope=col>&lt;chr&gt;</th><th scope=col>&lt;chr&gt;</th><th scope=col>⋯</th><th scope=col>&lt;chr&gt;</th><th scope=col>&lt;chr&gt;</th><th scope=col>&lt;chr&gt;</th><th scope=col>&lt;chr&gt;</th><th scope=col>&lt;chr&gt;</th><th scope=col>&lt;chr&gt;</th><th scope=col>&lt;chr&gt;</th><th scope=col>&lt;chr&gt;</th><th scope=col>&lt;chr&gt;</th><th scope=col>&lt;chr&gt;</th></tr>\n",
              "</thead>\n",
              "<tbody>\n",
              "\t<tr><th scope=row>278</th><td>2020</td><td>12</td><td>1 </td><td>22</td><td>20</td><td>臺中市</td><td>豐原區</td><td>1</td><td>0</td><td>0</td><td>⋯</td><td></td><td>21</td><td>21</td><td>1</td><td>21</td><td>8</td><td>C03</td><td>120.72008 </td><td>24.263826</td><td>1</td></tr>\n",
              "\t<tr><th scope=row>5253</th><td>2020</td><td>12</td><td>21</td><td>17</td><td>43</td><td>臺中市</td><td>北屯區</td><td>1</td><td>1</td><td>0</td><td>⋯</td><td></td><td>44</td><td>43</td><td>1</td><td>21</td><td>8</td><td>B03</td><td>120.718943</td><td>24.161183</td><td>1</td></tr>\n",
              "</tbody>\n",
              "</table>\n"
            ]
          },
          "metadata": {
            "tags": []
          }
        }
      ]
    },
    {
      "cell_type": "code",
      "metadata": {
        "colab": {
          "base_uri": "https://localhost:8080/",
          "height": 1000
        },
        "id": "DWPRlAJHaXVc",
        "outputId": "9eba6d8f-7de6-4b54-bd08-60bea6a90000"
      },
      "source": [
        "dataset[speedLimit<60 & death>0,]"
      ],
      "execution_count": 87,
      "outputs": [
        {
          "output_type": "display_data",
          "data": {
            "text/plain": [
              "     年   月 日 時 分 縣市   區     死 受傷 2_30 ⋯ 車輛撞擊部位其他\n",
              "291  2020 12 2  6  46 臺中市 大雅區 1  0    0    ⋯                 \n",
              "454  2020 12 2  15 40 臺中市 南屯區 1  1    0    ⋯                 \n",
              "1271 2020 12 5  16 1  臺中市 太平區 1  0    0    ⋯                 \n",
              "1396 2020 12 6  9  36 臺中市 龍井區 2  0    0    ⋯                 \n",
              "2078 2020 12 8  22 5  臺中市 豐原區 1  1    0    ⋯                 \n",
              "2128 2020 12 9  7  44 臺中市 大里區 1  0    0    ⋯                 \n",
              "2566 2020 12 10 18 14 臺中市 大雅區 1  1    0    ⋯                 \n",
              "2571 2020 12 10 18 26 臺中市 北屯區 1  0    0    ⋯                 \n",
              "2719 2020 12 11 12 48 臺中市 西屯區 1  1    0    ⋯                 \n",
              "2938 2020 12 12 6  9  臺中市 龍井區 1  1    0    ⋯                 \n",
              "3186 2020 12 13 3  15 臺中市 南區   1  1    0    ⋯                 \n",
              "3539 2020 12 14 16 56 臺中市 西區   1  1    0    ⋯                 \n",
              "3618 2020 12 15 5  32 臺中市 太平區 1  0    0    ⋯                 \n",
              "3818 2020 12 15 20 6  臺中市 西屯區 1  1    0    ⋯                 \n",
              "4530 2020 12 18 17 48 臺中市 后里區 1  1    0    ⋯                 \n",
              "4568 2020 12 18 19 2  臺中市 北屯區 1  1    0    ⋯                 \n",
              "6336 2020 12 25 18 51 臺中市 烏日區 1  0    0    ⋯                 \n",
              "6754 2020 12 27 17 13 臺中市 大里區 1  1    0    ⋯                 \n",
              "6835 2020 12 28 1  25 臺中市 大甲區 1  0    0    ⋯                 \n",
              "     肇事因素個別 肇事因素主要 肇事逃逸 職業 旅次目的 車種 GPS緯度    GPS經度  \n",
              "291  23           23           1        22   9        C03  120.645738 24.224815\n",
              "454  10           10           1        22   8        B03  120.631279 24.138518\n",
              "1271 42           42           1        18   8        C03  120.817507 24.086641\n",
              "1396 14           6            1        12   8        B12  120.539419 24.203203\n",
              "2078 23           23           1        22   8        C03  120.747561 24.266665\n",
              "2128 6            6            1        10   1        B12  120.676156 24.085808\n",
              "2566 42           42           1        22   9        F01  120.665885 24.216912\n",
              "2571 23           23           1        20   8        B03  120.747473 24.194803\n",
              "2719 43           43           1        22   8        C03  120.630092 24.173144\n",
              "2938 23           23           1        22   8        C03  120.573006 24.191698\n",
              "3186 21           21           1        22   8        C03  120.657241 24.133   \n",
              "3539 23           23           1        3    1        C03  120.66734  24.140588\n",
              "3618 67           43           1        20   8        H01  120.754564 24.121036\n",
              "3818 23           23           1        22   8        B12  120.618476 24.164232\n",
              "4530 23           23           2        21   8        C03  120.717991 24.300455\n",
              "4568 6            6            1        21   8        C03  120.733291 24.169388\n",
              "6336 6            6            1        21   8        A11  120.609411 24.11248 \n",
              "6754 25           25           1        22   5        C03  120.687713 24.094461\n",
              "6835 23           23           1        7    8        C03  120.62624  24.37379 \n",
              "     事故類別\n",
              "291  1       \n",
              "454  1       \n",
              "1271 1       \n",
              "1396 1       \n",
              "2078 1       \n",
              "2128 1       \n",
              "2566 1       \n",
              "2571 1       \n",
              "2719 1       \n",
              "2938 1       \n",
              "3186 1       \n",
              "3539 1       \n",
              "3618 1       \n",
              "3818 1       \n",
              "4530 1       \n",
              "4568 1       \n",
              "6336 1       \n",
              "6754 1       \n",
              "6835 1       "
            ],
            "text/latex": "A data.frame: 19 × 50\n\\begin{tabular}{r|lllllllllllllllllllll}\n  & 年 & 月 & 日 & 時 & 分 & 縣市 & 區 & 死 & 受傷 & 2\\_30 & ⋯ & 車輛撞擊部位其他 & 肇事因素個別 & 肇事因素主要 & 肇事逃逸 & 職業 & 旅次目的 & 車種 & GPS緯度 & GPS經度 & 事故類別\\\\\n  & <chr> & <chr> & <chr> & <chr> & <chr> & <chr> & <chr> & <chr> & <chr> & <chr> & ⋯ & <chr> & <chr> & <chr> & <chr> & <chr> & <chr> & <chr> & <chr> & <chr> & <chr>\\\\\n\\hline\n\t291 & 2020 & 12 & 2  & 6  & 46 & 臺中市 & 大雅區 & 1 & 0 & 0 & ⋯ &  & 23 & 23 & 1 & 22 & 9 & C03 & 120.645738 & 24.224815 & 1\\\\\n\t454 & 2020 & 12 & 2  & 15 & 40 & 臺中市 & 南屯區 & 1 & 1 & 0 & ⋯ &  & 10 & 10 & 1 & 22 & 8 & B03 & 120.631279 & 24.138518 & 1\\\\\n\t1271 & 2020 & 12 & 5  & 16 & 1  & 臺中市 & 太平區 & 1 & 0 & 0 & ⋯ &  & 42 & 42 & 1 & 18 & 8 & C03 & 120.817507 & 24.086641 & 1\\\\\n\t1396 & 2020 & 12 & 6  & 9  & 36 & 臺中市 & 龍井區 & 2 & 0 & 0 & ⋯ &  & 14 & 6  & 1 & 12 & 8 & B12 & 120.539419 & 24.203203 & 1\\\\\n\t2078 & 2020 & 12 & 8  & 22 & 5  & 臺中市 & 豐原區 & 1 & 1 & 0 & ⋯ &  & 23 & 23 & 1 & 22 & 8 & C03 & 120.747561 & 24.266665 & 1\\\\\n\t2128 & 2020 & 12 & 9  & 7  & 44 & 臺中市 & 大里區 & 1 & 0 & 0 & ⋯ &  & 6  & 6  & 1 & 10 & 1 & B12 & 120.676156 & 24.085808 & 1\\\\\n\t2566 & 2020 & 12 & 10 & 18 & 14 & 臺中市 & 大雅區 & 1 & 1 & 0 & ⋯ &  & 42 & 42 & 1 & 22 & 9 & F01 & 120.665885 & 24.216912 & 1\\\\\n\t2571 & 2020 & 12 & 10 & 18 & 26 & 臺中市 & 北屯區 & 1 & 0 & 0 & ⋯ &  & 23 & 23 & 1 & 20 & 8 & B03 & 120.747473 & 24.194803 & 1\\\\\n\t2719 & 2020 & 12 & 11 & 12 & 48 & 臺中市 & 西屯區 & 1 & 1 & 0 & ⋯ &  & 43 & 43 & 1 & 22 & 8 & C03 & 120.630092 & 24.173144 & 1\\\\\n\t2938 & 2020 & 12 & 12 & 6  & 9  & 臺中市 & 龍井區 & 1 & 1 & 0 & ⋯ &  & 23 & 23 & 1 & 22 & 8 & C03 & 120.573006 & 24.191698 & 1\\\\\n\t3186 & 2020 & 12 & 13 & 3  & 15 & 臺中市 & 南區   & 1 & 1 & 0 & ⋯ &  & 21 & 21 & 1 & 22 & 8 & C03 & 120.657241 & 24.133    & 1\\\\\n\t3539 & 2020 & 12 & 14 & 16 & 56 & 臺中市 & 西區   & 1 & 1 & 0 & ⋯ &  & 23 & 23 & 1 & 3  & 1 & C03 & 120.66734  & 24.140588 & 1\\\\\n\t3618 & 2020 & 12 & 15 & 5  & 32 & 臺中市 & 太平區 & 1 & 0 & 0 & ⋯ &  & 67 & 43 & 1 & 20 & 8 & H01 & 120.754564 & 24.121036 & 1\\\\\n\t3818 & 2020 & 12 & 15 & 20 & 6  & 臺中市 & 西屯區 & 1 & 1 & 0 & ⋯ &  & 23 & 23 & 1 & 22 & 8 & B12 & 120.618476 & 24.164232 & 1\\\\\n\t4530 & 2020 & 12 & 18 & 17 & 48 & 臺中市 & 后里區 & 1 & 1 & 0 & ⋯ &  & 23 & 23 & 2 & 21 & 8 & C03 & 120.717991 & 24.300455 & 1\\\\\n\t4568 & 2020 & 12 & 18 & 19 & 2  & 臺中市 & 北屯區 & 1 & 1 & 0 & ⋯ &  & 6  & 6  & 1 & 21 & 8 & C03 & 120.733291 & 24.169388 & 1\\\\\n\t6336 & 2020 & 12 & 25 & 18 & 51 & 臺中市 & 烏日區 & 1 & 0 & 0 & ⋯ &  & 6  & 6  & 1 & 21 & 8 & A11 & 120.609411 & 24.11248  & 1\\\\\n\t6754 & 2020 & 12 & 27 & 17 & 13 & 臺中市 & 大里區 & 1 & 1 & 0 & ⋯ &  & 25 & 25 & 1 & 22 & 5 & C03 & 120.687713 & 24.094461 & 1\\\\\n\t6835 & 2020 & 12 & 28 & 1  & 25 & 臺中市 & 大甲區 & 1 & 0 & 0 & ⋯ &  & 23 & 23 & 1 & 7  & 8 & C03 & 120.62624  & 24.37379  & 1\\\\\n\\end{tabular}\n",
            "text/markdown": "\nA data.frame: 19 × 50\n\n| <!--/--> | 年 &lt;chr&gt; | 月 &lt;chr&gt; | 日 &lt;chr&gt; | 時 &lt;chr&gt; | 分 &lt;chr&gt; | 縣市 &lt;chr&gt; | 區 &lt;chr&gt; | 死 &lt;chr&gt; | 受傷 &lt;chr&gt; | 2_30 &lt;chr&gt; | ⋯ ⋯ | 車輛撞擊部位其他 &lt;chr&gt; | 肇事因素個別 &lt;chr&gt; | 肇事因素主要 &lt;chr&gt; | 肇事逃逸 &lt;chr&gt; | 職業 &lt;chr&gt; | 旅次目的 &lt;chr&gt; | 車種 &lt;chr&gt; | GPS緯度 &lt;chr&gt; | GPS經度 &lt;chr&gt; | 事故類別 &lt;chr&gt; |\n|---|---|---|---|---|---|---|---|---|---|---|---|---|---|---|---|---|---|---|---|---|---|\n| 291 | 2020 | 12 | 2  | 6  | 46 | 臺中市 | 大雅區 | 1 | 0 | 0 | ⋯ | <!----> | 23 | 23 | 1 | 22 | 9 | C03 | 120.645738 | 24.224815 | 1 |\n| 454 | 2020 | 12 | 2  | 15 | 40 | 臺中市 | 南屯區 | 1 | 1 | 0 | ⋯ | <!----> | 10 | 10 | 1 | 22 | 8 | B03 | 120.631279 | 24.138518 | 1 |\n| 1271 | 2020 | 12 | 5  | 16 | 1  | 臺中市 | 太平區 | 1 | 0 | 0 | ⋯ | <!----> | 42 | 42 | 1 | 18 | 8 | C03 | 120.817507 | 24.086641 | 1 |\n| 1396 | 2020 | 12 | 6  | 9  | 36 | 臺中市 | 龍井區 | 2 | 0 | 0 | ⋯ | <!----> | 14 | 6  | 1 | 12 | 8 | B12 | 120.539419 | 24.203203 | 1 |\n| 2078 | 2020 | 12 | 8  | 22 | 5  | 臺中市 | 豐原區 | 1 | 1 | 0 | ⋯ | <!----> | 23 | 23 | 1 | 22 | 8 | C03 | 120.747561 | 24.266665 | 1 |\n| 2128 | 2020 | 12 | 9  | 7  | 44 | 臺中市 | 大里區 | 1 | 0 | 0 | ⋯ | <!----> | 6  | 6  | 1 | 10 | 1 | B12 | 120.676156 | 24.085808 | 1 |\n| 2566 | 2020 | 12 | 10 | 18 | 14 | 臺中市 | 大雅區 | 1 | 1 | 0 | ⋯ | <!----> | 42 | 42 | 1 | 22 | 9 | F01 | 120.665885 | 24.216912 | 1 |\n| 2571 | 2020 | 12 | 10 | 18 | 26 | 臺中市 | 北屯區 | 1 | 0 | 0 | ⋯ | <!----> | 23 | 23 | 1 | 20 | 8 | B03 | 120.747473 | 24.194803 | 1 |\n| 2719 | 2020 | 12 | 11 | 12 | 48 | 臺中市 | 西屯區 | 1 | 1 | 0 | ⋯ | <!----> | 43 | 43 | 1 | 22 | 8 | C03 | 120.630092 | 24.173144 | 1 |\n| 2938 | 2020 | 12 | 12 | 6  | 9  | 臺中市 | 龍井區 | 1 | 1 | 0 | ⋯ | <!----> | 23 | 23 | 1 | 22 | 8 | C03 | 120.573006 | 24.191698 | 1 |\n| 3186 | 2020 | 12 | 13 | 3  | 15 | 臺中市 | 南區   | 1 | 1 | 0 | ⋯ | <!----> | 21 | 21 | 1 | 22 | 8 | C03 | 120.657241 | 24.133    | 1 |\n| 3539 | 2020 | 12 | 14 | 16 | 56 | 臺中市 | 西區   | 1 | 1 | 0 | ⋯ | <!----> | 23 | 23 | 1 | 3  | 1 | C03 | 120.66734  | 24.140588 | 1 |\n| 3618 | 2020 | 12 | 15 | 5  | 32 | 臺中市 | 太平區 | 1 | 0 | 0 | ⋯ | <!----> | 67 | 43 | 1 | 20 | 8 | H01 | 120.754564 | 24.121036 | 1 |\n| 3818 | 2020 | 12 | 15 | 20 | 6  | 臺中市 | 西屯區 | 1 | 1 | 0 | ⋯ | <!----> | 23 | 23 | 1 | 22 | 8 | B12 | 120.618476 | 24.164232 | 1 |\n| 4530 | 2020 | 12 | 18 | 17 | 48 | 臺中市 | 后里區 | 1 | 1 | 0 | ⋯ | <!----> | 23 | 23 | 2 | 21 | 8 | C03 | 120.717991 | 24.300455 | 1 |\n| 4568 | 2020 | 12 | 18 | 19 | 2  | 臺中市 | 北屯區 | 1 | 1 | 0 | ⋯ | <!----> | 6  | 6  | 1 | 21 | 8 | C03 | 120.733291 | 24.169388 | 1 |\n| 6336 | 2020 | 12 | 25 | 18 | 51 | 臺中市 | 烏日區 | 1 | 0 | 0 | ⋯ | <!----> | 6  | 6  | 1 | 21 | 8 | A11 | 120.609411 | 24.11248  | 1 |\n| 6754 | 2020 | 12 | 27 | 17 | 13 | 臺中市 | 大里區 | 1 | 1 | 0 | ⋯ | <!----> | 25 | 25 | 1 | 22 | 5 | C03 | 120.687713 | 24.094461 | 1 |\n| 6835 | 2020 | 12 | 28 | 1  | 25 | 臺中市 | 大甲區 | 1 | 0 | 0 | ⋯ | <!----> | 23 | 23 | 1 | 7  | 8 | C03 | 120.62624  | 24.37379  | 1 |\n\n",
            "text/html": [
              "<table class=\"dataframe\">\n",
              "<caption>A data.frame: 19 × 50</caption>\n",
              "<thead>\n",
              "\t<tr><th></th><th scope=col>年</th><th scope=col>月</th><th scope=col>日</th><th scope=col>時</th><th scope=col>分</th><th scope=col>縣市</th><th scope=col>區</th><th scope=col>死</th><th scope=col>受傷</th><th scope=col>2_30</th><th scope=col>⋯</th><th scope=col>車輛撞擊部位其他</th><th scope=col>肇事因素個別</th><th scope=col>肇事因素主要</th><th scope=col>肇事逃逸</th><th scope=col>職業</th><th scope=col>旅次目的</th><th scope=col>車種</th><th scope=col>GPS緯度</th><th scope=col>GPS經度</th><th scope=col>事故類別</th></tr>\n",
              "\t<tr><th></th><th scope=col>&lt;chr&gt;</th><th scope=col>&lt;chr&gt;</th><th scope=col>&lt;chr&gt;</th><th scope=col>&lt;chr&gt;</th><th scope=col>&lt;chr&gt;</th><th scope=col>&lt;chr&gt;</th><th scope=col>&lt;chr&gt;</th><th scope=col>&lt;chr&gt;</th><th scope=col>&lt;chr&gt;</th><th scope=col>&lt;chr&gt;</th><th scope=col>⋯</th><th scope=col>&lt;chr&gt;</th><th scope=col>&lt;chr&gt;</th><th scope=col>&lt;chr&gt;</th><th scope=col>&lt;chr&gt;</th><th scope=col>&lt;chr&gt;</th><th scope=col>&lt;chr&gt;</th><th scope=col>&lt;chr&gt;</th><th scope=col>&lt;chr&gt;</th><th scope=col>&lt;chr&gt;</th><th scope=col>&lt;chr&gt;</th></tr>\n",
              "</thead>\n",
              "<tbody>\n",
              "\t<tr><th scope=row>291</th><td>2020</td><td>12</td><td>2 </td><td>6 </td><td>46</td><td>臺中市</td><td>大雅區</td><td>1</td><td>0</td><td>0</td><td>⋯</td><td></td><td>23</td><td>23</td><td>1</td><td>22</td><td>9</td><td>C03</td><td>120.645738</td><td>24.224815</td><td>1</td></tr>\n",
              "\t<tr><th scope=row>454</th><td>2020</td><td>12</td><td>2 </td><td>15</td><td>40</td><td>臺中市</td><td>南屯區</td><td>1</td><td>1</td><td>0</td><td>⋯</td><td></td><td>10</td><td>10</td><td>1</td><td>22</td><td>8</td><td>B03</td><td>120.631279</td><td>24.138518</td><td>1</td></tr>\n",
              "\t<tr><th scope=row>1271</th><td>2020</td><td>12</td><td>5 </td><td>16</td><td>1 </td><td>臺中市</td><td>太平區</td><td>1</td><td>0</td><td>0</td><td>⋯</td><td></td><td>42</td><td>42</td><td>1</td><td>18</td><td>8</td><td>C03</td><td>120.817507</td><td>24.086641</td><td>1</td></tr>\n",
              "\t<tr><th scope=row>1396</th><td>2020</td><td>12</td><td>6 </td><td>9 </td><td>36</td><td>臺中市</td><td>龍井區</td><td>2</td><td>0</td><td>0</td><td>⋯</td><td></td><td>14</td><td>6 </td><td>1</td><td>12</td><td>8</td><td>B12</td><td>120.539419</td><td>24.203203</td><td>1</td></tr>\n",
              "\t<tr><th scope=row>2078</th><td>2020</td><td>12</td><td>8 </td><td>22</td><td>5 </td><td>臺中市</td><td>豐原區</td><td>1</td><td>1</td><td>0</td><td>⋯</td><td></td><td>23</td><td>23</td><td>1</td><td>22</td><td>8</td><td>C03</td><td>120.747561</td><td>24.266665</td><td>1</td></tr>\n",
              "\t<tr><th scope=row>2128</th><td>2020</td><td>12</td><td>9 </td><td>7 </td><td>44</td><td>臺中市</td><td>大里區</td><td>1</td><td>0</td><td>0</td><td>⋯</td><td></td><td>6 </td><td>6 </td><td>1</td><td>10</td><td>1</td><td>B12</td><td>120.676156</td><td>24.085808</td><td>1</td></tr>\n",
              "\t<tr><th scope=row>2566</th><td>2020</td><td>12</td><td>10</td><td>18</td><td>14</td><td>臺中市</td><td>大雅區</td><td>1</td><td>1</td><td>0</td><td>⋯</td><td></td><td>42</td><td>42</td><td>1</td><td>22</td><td>9</td><td>F01</td><td>120.665885</td><td>24.216912</td><td>1</td></tr>\n",
              "\t<tr><th scope=row>2571</th><td>2020</td><td>12</td><td>10</td><td>18</td><td>26</td><td>臺中市</td><td>北屯區</td><td>1</td><td>0</td><td>0</td><td>⋯</td><td></td><td>23</td><td>23</td><td>1</td><td>20</td><td>8</td><td>B03</td><td>120.747473</td><td>24.194803</td><td>1</td></tr>\n",
              "\t<tr><th scope=row>2719</th><td>2020</td><td>12</td><td>11</td><td>12</td><td>48</td><td>臺中市</td><td>西屯區</td><td>1</td><td>1</td><td>0</td><td>⋯</td><td></td><td>43</td><td>43</td><td>1</td><td>22</td><td>8</td><td>C03</td><td>120.630092</td><td>24.173144</td><td>1</td></tr>\n",
              "\t<tr><th scope=row>2938</th><td>2020</td><td>12</td><td>12</td><td>6 </td><td>9 </td><td>臺中市</td><td>龍井區</td><td>1</td><td>1</td><td>0</td><td>⋯</td><td></td><td>23</td><td>23</td><td>1</td><td>22</td><td>8</td><td>C03</td><td>120.573006</td><td>24.191698</td><td>1</td></tr>\n",
              "\t<tr><th scope=row>3186</th><td>2020</td><td>12</td><td>13</td><td>3 </td><td>15</td><td>臺中市</td><td>南區  </td><td>1</td><td>1</td><td>0</td><td>⋯</td><td></td><td>21</td><td>21</td><td>1</td><td>22</td><td>8</td><td>C03</td><td>120.657241</td><td>24.133   </td><td>1</td></tr>\n",
              "\t<tr><th scope=row>3539</th><td>2020</td><td>12</td><td>14</td><td>16</td><td>56</td><td>臺中市</td><td>西區  </td><td>1</td><td>1</td><td>0</td><td>⋯</td><td></td><td>23</td><td>23</td><td>1</td><td>3 </td><td>1</td><td>C03</td><td>120.66734 </td><td>24.140588</td><td>1</td></tr>\n",
              "\t<tr><th scope=row>3618</th><td>2020</td><td>12</td><td>15</td><td>5 </td><td>32</td><td>臺中市</td><td>太平區</td><td>1</td><td>0</td><td>0</td><td>⋯</td><td></td><td>67</td><td>43</td><td>1</td><td>20</td><td>8</td><td>H01</td><td>120.754564</td><td>24.121036</td><td>1</td></tr>\n",
              "\t<tr><th scope=row>3818</th><td>2020</td><td>12</td><td>15</td><td>20</td><td>6 </td><td>臺中市</td><td>西屯區</td><td>1</td><td>1</td><td>0</td><td>⋯</td><td></td><td>23</td><td>23</td><td>1</td><td>22</td><td>8</td><td>B12</td><td>120.618476</td><td>24.164232</td><td>1</td></tr>\n",
              "\t<tr><th scope=row>4530</th><td>2020</td><td>12</td><td>18</td><td>17</td><td>48</td><td>臺中市</td><td>后里區</td><td>1</td><td>1</td><td>0</td><td>⋯</td><td></td><td>23</td><td>23</td><td>2</td><td>21</td><td>8</td><td>C03</td><td>120.717991</td><td>24.300455</td><td>1</td></tr>\n",
              "\t<tr><th scope=row>4568</th><td>2020</td><td>12</td><td>18</td><td>19</td><td>2 </td><td>臺中市</td><td>北屯區</td><td>1</td><td>1</td><td>0</td><td>⋯</td><td></td><td>6 </td><td>6 </td><td>1</td><td>21</td><td>8</td><td>C03</td><td>120.733291</td><td>24.169388</td><td>1</td></tr>\n",
              "\t<tr><th scope=row>6336</th><td>2020</td><td>12</td><td>25</td><td>18</td><td>51</td><td>臺中市</td><td>烏日區</td><td>1</td><td>0</td><td>0</td><td>⋯</td><td></td><td>6 </td><td>6 </td><td>1</td><td>21</td><td>8</td><td>A11</td><td>120.609411</td><td>24.11248 </td><td>1</td></tr>\n",
              "\t<tr><th scope=row>6754</th><td>2020</td><td>12</td><td>27</td><td>17</td><td>13</td><td>臺中市</td><td>大里區</td><td>1</td><td>1</td><td>0</td><td>⋯</td><td></td><td>25</td><td>25</td><td>1</td><td>22</td><td>5</td><td>C03</td><td>120.687713</td><td>24.094461</td><td>1</td></tr>\n",
              "\t<tr><th scope=row>6835</th><td>2020</td><td>12</td><td>28</td><td>1 </td><td>25</td><td>臺中市</td><td>大甲區</td><td>1</td><td>0</td><td>0</td><td>⋯</td><td></td><td>23</td><td>23</td><td>1</td><td>7 </td><td>8</td><td>C03</td><td>120.62624 </td><td>24.37379 </td><td>1</td></tr>\n",
              "</tbody>\n",
              "</table>\n"
            ]
          },
          "metadata": {
            "tags": []
          }
        }
      ]
    }
  ]
}