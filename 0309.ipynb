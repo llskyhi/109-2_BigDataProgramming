{
  "nbformat": 4,
  "nbformat_minor": 0,
  "metadata": {
    "colab": {
      "name": "0309.ipynb",
      "provenance": [],
      "collapsed_sections": []
    },
    "kernelspec": {
      "name": "ir",
      "display_name": "R"
    }
  },
  "cells": [
    {
      "cell_type": "code",
      "metadata": {
        "colab": {
          "base_uri": "https://localhost:8080/",
          "height": 50
        },
        "id": "ONUfQM4tJJU-",
        "outputId": "98044b2d-40a5-48dd-996a-ed0fb9622ec7"
      },
      "source": [
        "# character\r\n",
        "var <- \"測試\"\r\n",
        "print(var)\r\n",
        "class(var)"
      ],
      "execution_count": 59,
      "outputs": [
        {
          "output_type": "stream",
          "text": [
            "[1] \"測試\"\n"
          ],
          "name": "stdout"
        },
        {
          "output_type": "display_data",
          "data": {
            "text/plain": [
              "[1] \"character\""
            ],
            "text/latex": "'character'",
            "text/markdown": "'character'",
            "text/html": [
              "'character'"
            ]
          },
          "metadata": {
            "tags": []
          }
        }
      ]
    },
    {
      "cell_type": "code",
      "metadata": {
        "colab": {
          "base_uri": "https://localhost:8080/",
          "height": 50
        },
        "id": "UZtu8YdbJMEw",
        "outputId": "924f35bd-ed5f-4f31-a590-394fc083fb5b"
      },
      "source": [
        "# numeric\r\n",
        "var <- 5\r\n",
        "print(var)\r\n",
        "class(var)"
      ],
      "execution_count": 60,
      "outputs": [
        {
          "output_type": "stream",
          "text": [
            "[1] 5\n"
          ],
          "name": "stdout"
        },
        {
          "output_type": "display_data",
          "data": {
            "text/plain": [
              "[1] \"numeric\""
            ],
            "text/latex": "'numeric'",
            "text/markdown": "'numeric'",
            "text/html": [
              "'numeric'"
            ]
          },
          "metadata": {
            "tags": []
          }
        }
      ]
    },
    {
      "cell_type": "code",
      "metadata": {
        "colab": {
          "base_uri": "https://localhost:8080/",
          "height": 84
        },
        "id": "Z03fWgeNJSdp",
        "outputId": "aec19423-1e70-4106-f3bd-a2535476ea95"
      },
      "source": [
        "# integer - as.integer\r\n",
        "var <- as.integer(10)\r\n",
        "print(var)\r\n",
        "class(var)\r\n",
        "\r\n",
        "# integer - 數字L\r\n",
        "var <- 15L\r\n",
        "print(var)\r\n",
        "class(var)"
      ],
      "execution_count": 61,
      "outputs": [
        {
          "output_type": "stream",
          "text": [
            "[1] 10\n"
          ],
          "name": "stdout"
        },
        {
          "output_type": "display_data",
          "data": {
            "text/plain": [
              "[1] \"integer\""
            ],
            "text/latex": "'integer'",
            "text/markdown": "'integer'",
            "text/html": [
              "'integer'"
            ]
          },
          "metadata": {
            "tags": []
          }
        },
        {
          "output_type": "stream",
          "text": [
            "[1] 15\n"
          ],
          "name": "stdout"
        },
        {
          "output_type": "display_data",
          "data": {
            "text/plain": [
              "[1] \"integer\""
            ],
            "text/latex": "'integer'",
            "text/markdown": "'integer'",
            "text/html": [
              "'integer'"
            ]
          },
          "metadata": {
            "tags": []
          }
        }
      ]
    },
    {
      "cell_type": "code",
      "metadata": {
        "colab": {
          "base_uri": "https://localhost:8080/",
          "height": 50
        },
        "id": "2AUL2PYgJZPJ",
        "outputId": "ab8c6e10-f8da-4b6a-bb31-80a3cfc55263"
      },
      "source": [
        "# complex\r\n",
        "var = 20+25i\r\n",
        "print(var)\r\n",
        "class(var)"
      ],
      "execution_count": 62,
      "outputs": [
        {
          "output_type": "stream",
          "text": [
            "[1] 20+25i\n"
          ],
          "name": "stdout"
        },
        {
          "output_type": "display_data",
          "data": {
            "text/plain": [
              "[1] \"complex\""
            ],
            "text/latex": "'complex'",
            "text/markdown": "'complex'",
            "text/html": [
              "'complex'"
            ]
          },
          "metadata": {
            "tags": []
          }
        }
      ]
    },
    {
      "cell_type": "code",
      "metadata": {
        "colab": {
          "base_uri": "https://localhost:8080/",
          "height": 50
        },
        "id": "04Bq_iYEJdA9",
        "outputId": "3e723f39-2ee9-4b69-d3e5-71a7b1942ab1"
      },
      "source": [
        "# logical\r\n",
        "var = TRUE\r\n",
        "# var = T\r\n",
        "# var = FALSE\r\n",
        "# var = F\r\n",
        "print(var)\r\n",
        "class(var)"
      ],
      "execution_count": 63,
      "outputs": [
        {
          "output_type": "stream",
          "text": [
            "[1] TRUE\n"
          ],
          "name": "stdout"
        },
        {
          "output_type": "display_data",
          "data": {
            "text/plain": [
              "[1] \"logical\""
            ],
            "text/latex": "'logical'",
            "text/markdown": "'logical'",
            "text/html": [
              "'logical'"
            ]
          },
          "metadata": {
            "tags": []
          }
        }
      ]
    },
    {
      "cell_type": "code",
      "metadata": {
        "colab": {
          "base_uri": "https://localhost:8080/",
          "height": 50
        },
        "id": "PeWQ9ZK3JfKv",
        "outputId": "59c5654e-bf42-46d1-925a-1cb3c69b6fd4"
      },
      "source": [
        "# POSIXct POSIXt\r\n",
        "var <- Sys.time()\r\n",
        "print(var)\r\n",
        "class(var)"
      ],
      "execution_count": 64,
      "outputs": [
        {
          "output_type": "stream",
          "text": [
            "[1] \"2021-03-09 09:10:45 UTC\"\n"
          ],
          "name": "stdout"
        },
        {
          "output_type": "display_data",
          "data": {
            "text/plain": [
              "[1] \"POSIXct\" \"POSIXt\" "
            ],
            "text/latex": "\\begin{enumerate*}\n\\item 'POSIXct'\n\\item 'POSIXt'\n\\end{enumerate*}\n",
            "text/markdown": "1. 'POSIXct'\n2. 'POSIXt'\n\n\n",
            "text/html": [
              "<style>\n",
              ".list-inline {list-style: none; margin:0; padding: 0}\n",
              ".list-inline>li {display: inline-block}\n",
              ".list-inline>li:not(:last-child)::after {content: \"\\00b7\"; padding: 0 .5ex}\n",
              "</style>\n",
              "<ol class=list-inline><li>'POSIXct'</li><li>'POSIXt'</li></ol>\n"
            ]
          },
          "metadata": {
            "tags": []
          }
        }
      ]
    },
    {
      "cell_type": "code",
      "metadata": {
        "colab": {
          "base_uri": "https://localhost:8080/",
          "height": 84
        },
        "id": "nrD119WgJhjt",
        "outputId": "41e4483a-ff99-491f-ad65-53cf894f4ece"
      },
      "source": [
        "# vector 向量?陣列?\r\n",
        "var <- c(1, 5, 6, 21, -8)\r\n",
        "print(var)\r\n",
        "class(var)\r\n",
        "# 取值起始索引是1\r\n",
        "var[5]\r\n",
        "var[6]"
      ],
      "execution_count": 65,
      "outputs": [
        {
          "output_type": "stream",
          "text": [
            "[1]  1  5  6 21 -8\n"
          ],
          "name": "stdout"
        },
        {
          "output_type": "display_data",
          "data": {
            "text/plain": [
              "[1] \"numeric\""
            ],
            "text/latex": "'numeric'",
            "text/markdown": "'numeric'",
            "text/html": [
              "'numeric'"
            ]
          },
          "metadata": {
            "tags": []
          }
        },
        {
          "output_type": "display_data",
          "data": {
            "text/plain": [
              "[1] -8"
            ],
            "text/latex": "-8",
            "text/markdown": "-8",
            "text/html": [
              "-8"
            ]
          },
          "metadata": {
            "tags": []
          }
        },
        {
          "output_type": "display_data",
          "data": {
            "text/plain": [
              "[1] NA"
            ],
            "text/latex": "<NA>",
            "text/markdown": "&lt;NA&gt;",
            "text/html": [
              "&lt;NA&gt;"
            ]
          },
          "metadata": {
            "tags": []
          }
        }
      ]
    },
    {
      "cell_type": "code",
      "metadata": {
        "colab": {
          "base_uri": "https://localhost:8080/",
          "height": 67
        },
        "id": "aVdpzVHzKPgg",
        "outputId": "080b0873-2822-4c6c-918e-75829f3063d6"
      },
      "source": [
        "# factor?\r\n",
        "var <- factor(c(\"男\", \"女\", \"男\", \"男\", \"女\"))\r\n",
        "print(var)\r\n",
        "class(var)"
      ],
      "execution_count": 66,
      "outputs": [
        {
          "output_type": "stream",
          "text": [
            "[1] 男 女 男 男 女\n",
            "Levels: 女 男\n"
          ],
          "name": "stdout"
        },
        {
          "output_type": "display_data",
          "data": {
            "text/plain": [
              "[1] \"factor\""
            ],
            "text/latex": "'factor'",
            "text/markdown": "'factor'",
            "text/html": [
              "'factor'"
            ]
          },
          "metadata": {
            "tags": []
          }
        }
      ]
    },
    {
      "cell_type": "code",
      "metadata": {
        "colab": {
          "base_uri": "https://localhost:8080/",
          "height": 151
        },
        "id": "fmwjnCI6LDzV",
        "outputId": "05477eca-727a-4b00-8a7e-d12ad4ca44a4"
      },
      "source": [
        "# 檢查資料型態/資料型態轉換\r\n",
        "var <- 5\r\n",
        "var\r\n",
        "class(var)\r\n",
        "is.numeric(var)\r\n",
        "is.integer(var)\r\n",
        "\r\n",
        "var <- as.integer(var)\r\n",
        "var\r\n",
        "class(var)\r\n",
        "is.numeric(var)\r\n",
        "is.integer(var)"
      ],
      "execution_count": 67,
      "outputs": [
        {
          "output_type": "display_data",
          "data": {
            "text/plain": [
              "[1] 5"
            ],
            "text/latex": "5",
            "text/markdown": "5",
            "text/html": [
              "5"
            ]
          },
          "metadata": {
            "tags": []
          }
        },
        {
          "output_type": "display_data",
          "data": {
            "text/plain": [
              "[1] \"numeric\""
            ],
            "text/latex": "'numeric'",
            "text/markdown": "'numeric'",
            "text/html": [
              "'numeric'"
            ]
          },
          "metadata": {
            "tags": []
          }
        },
        {
          "output_type": "display_data",
          "data": {
            "text/plain": [
              "[1] TRUE"
            ],
            "text/latex": "TRUE",
            "text/markdown": "TRUE",
            "text/html": [
              "TRUE"
            ]
          },
          "metadata": {
            "tags": []
          }
        },
        {
          "output_type": "display_data",
          "data": {
            "text/plain": [
              "[1] FALSE"
            ],
            "text/latex": "FALSE",
            "text/markdown": "FALSE",
            "text/html": [
              "FALSE"
            ]
          },
          "metadata": {
            "tags": []
          }
        },
        {
          "output_type": "display_data",
          "data": {
            "text/plain": [
              "[1] 5"
            ],
            "text/latex": "5",
            "text/markdown": "5",
            "text/html": [
              "5"
            ]
          },
          "metadata": {
            "tags": []
          }
        },
        {
          "output_type": "display_data",
          "data": {
            "text/plain": [
              "[1] \"integer\""
            ],
            "text/latex": "'integer'",
            "text/markdown": "'integer'",
            "text/html": [
              "'integer'"
            ]
          },
          "metadata": {
            "tags": []
          }
        },
        {
          "output_type": "display_data",
          "data": {
            "text/plain": [
              "[1] TRUE"
            ],
            "text/latex": "TRUE",
            "text/markdown": "TRUE",
            "text/html": [
              "TRUE"
            ]
          },
          "metadata": {
            "tags": []
          }
        },
        {
          "output_type": "display_data",
          "data": {
            "text/plain": [
              "[1] TRUE"
            ],
            "text/latex": "TRUE",
            "text/markdown": "TRUE",
            "text/html": [
              "TRUE"
            ]
          },
          "metadata": {
            "tags": []
          }
        }
      ]
    },
    {
      "cell_type": "code",
      "metadata": {
        "colab": {
          "base_uri": "https://localhost:8080/",
          "height": 168
        },
        "id": "YDZztRUtJmTf",
        "outputId": "4cf18200-08a0-4825-8e3a-f13831a36eef"
      },
      "source": [
        "# 基本運算(可用於向量?資料)\r\n",
        "var <- 5\r\n",
        "var+2\r\n",
        "var*3\r\n",
        "var-4\r\n",
        "var/5\r\n",
        "var**6\r\n",
        "var^7\r\n",
        "# 商數\r\n",
        "var%/%2\r\n",
        "# 餘數\r\n",
        "var%%2\r\n",
        "sqrt(var)"
      ],
      "execution_count": 68,
      "outputs": [
        {
          "output_type": "display_data",
          "data": {
            "text/plain": [
              "[1] 7"
            ],
            "text/latex": "7",
            "text/markdown": "7",
            "text/html": [
              "7"
            ]
          },
          "metadata": {
            "tags": []
          }
        },
        {
          "output_type": "display_data",
          "data": {
            "text/plain": [
              "[1] 15"
            ],
            "text/latex": "15",
            "text/markdown": "15",
            "text/html": [
              "15"
            ]
          },
          "metadata": {
            "tags": []
          }
        },
        {
          "output_type": "display_data",
          "data": {
            "text/plain": [
              "[1] 1"
            ],
            "text/latex": "1",
            "text/markdown": "1",
            "text/html": [
              "1"
            ]
          },
          "metadata": {
            "tags": []
          }
        },
        {
          "output_type": "display_data",
          "data": {
            "text/plain": [
              "[1] 1"
            ],
            "text/latex": "1",
            "text/markdown": "1",
            "text/html": [
              "1"
            ]
          },
          "metadata": {
            "tags": []
          }
        },
        {
          "output_type": "display_data",
          "data": {
            "text/plain": [
              "[1] 15625"
            ],
            "text/latex": "15625",
            "text/markdown": "15625",
            "text/html": [
              "15625"
            ]
          },
          "metadata": {
            "tags": []
          }
        },
        {
          "output_type": "display_data",
          "data": {
            "text/plain": [
              "[1] 78125"
            ],
            "text/latex": "78125",
            "text/markdown": "78125",
            "text/html": [
              "78125"
            ]
          },
          "metadata": {
            "tags": []
          }
        },
        {
          "output_type": "display_data",
          "data": {
            "text/plain": [
              "[1] 2"
            ],
            "text/latex": "2",
            "text/markdown": "2",
            "text/html": [
              "2"
            ]
          },
          "metadata": {
            "tags": []
          }
        },
        {
          "output_type": "display_data",
          "data": {
            "text/plain": [
              "[1] 1"
            ],
            "text/latex": "1",
            "text/markdown": "1",
            "text/html": [
              "1"
            ]
          },
          "metadata": {
            "tags": []
          }
        },
        {
          "output_type": "display_data",
          "data": {
            "text/plain": [
              "[1] 2.236068"
            ],
            "text/latex": "2.23606797749979",
            "text/markdown": "2.23606797749979",
            "text/html": [
              "2.23606797749979"
            ]
          },
          "metadata": {
            "tags": []
          }
        }
      ]
    },
    {
      "cell_type": "code",
      "metadata": {
        "colab": {
          "base_uri": "https://localhost:8080/",
          "height": 118
        },
        "id": "drEErYG4D5Zy",
        "outputId": "8b9f71d9-b1c0-4e6b-9482-eab0f46f2a1b"
      },
      "source": [
        "# 向量運算\r\n",
        "data = c(171, 177, 178, 175, 202)\r\n",
        "data\r\n",
        "data >= 180\r\n",
        "\r\n",
        "n <- length(data)\r\n",
        "n\r\n",
        "sum(data)\r\n",
        "mean <- sum(data)/length(data)\r\n",
        "mean\r\n",
        "variance <- sum((data-mean)**2)/(length(data)-1)\r\n",
        "variance"
      ],
      "execution_count": 74,
      "outputs": [
        {
          "output_type": "display_data",
          "data": {
            "text/plain": [
              "[1] 171 177 178 175 202"
            ],
            "text/latex": "\\begin{enumerate*}\n\\item 171\n\\item 177\n\\item 178\n\\item 175\n\\item 202\n\\end{enumerate*}\n",
            "text/markdown": "1. 171\n2. 177\n3. 178\n4. 175\n5. 202\n\n\n",
            "text/html": [
              "<style>\n",
              ".list-inline {list-style: none; margin:0; padding: 0}\n",
              ".list-inline>li {display: inline-block}\n",
              ".list-inline>li:not(:last-child)::after {content: \"\\00b7\"; padding: 0 .5ex}\n",
              "</style>\n",
              "<ol class=list-inline><li>171</li><li>177</li><li>178</li><li>175</li><li>202</li></ol>\n"
            ]
          },
          "metadata": {
            "tags": []
          }
        },
        {
          "output_type": "display_data",
          "data": {
            "text/plain": [
              "[1] FALSE FALSE FALSE FALSE  TRUE"
            ],
            "text/latex": "\\begin{enumerate*}\n\\item FALSE\n\\item FALSE\n\\item FALSE\n\\item FALSE\n\\item TRUE\n\\end{enumerate*}\n",
            "text/markdown": "1. FALSE\n2. FALSE\n3. FALSE\n4. FALSE\n5. TRUE\n\n\n",
            "text/html": [
              "<style>\n",
              ".list-inline {list-style: none; margin:0; padding: 0}\n",
              ".list-inline>li {display: inline-block}\n",
              ".list-inline>li:not(:last-child)::after {content: \"\\00b7\"; padding: 0 .5ex}\n",
              "</style>\n",
              "<ol class=list-inline><li>FALSE</li><li>FALSE</li><li>FALSE</li><li>FALSE</li><li>TRUE</li></ol>\n"
            ]
          },
          "metadata": {
            "tags": []
          }
        },
        {
          "output_type": "display_data",
          "data": {
            "text/plain": [
              "[1] 5"
            ],
            "text/latex": "5",
            "text/markdown": "5",
            "text/html": [
              "5"
            ]
          },
          "metadata": {
            "tags": []
          }
        },
        {
          "output_type": "display_data",
          "data": {
            "text/plain": [
              "[1] 903"
            ],
            "text/latex": "903",
            "text/markdown": "903",
            "text/html": [
              "903"
            ]
          },
          "metadata": {
            "tags": []
          }
        },
        {
          "output_type": "display_data",
          "data": {
            "text/plain": [
              "[1] 180.6"
            ],
            "text/latex": "180.6",
            "text/markdown": "180.6",
            "text/html": [
              "180.6"
            ]
          },
          "metadata": {
            "tags": []
          }
        },
        {
          "output_type": "display_data",
          "data": {
            "text/plain": [
              "[1] 150.3"
            ],
            "text/latex": "150.3",
            "text/markdown": "150.3",
            "text/html": [
              "150.3"
            ]
          },
          "metadata": {
            "tags": []
          }
        }
      ]
    },
    {
      "cell_type": "code",
      "metadata": {
        "colab": {
          "base_uri": "https://localhost:8080/",
          "height": 258
        },
        "id": "UUAAsolxJ5mH",
        "outputId": "e51953c8-f5c7-412d-d899-a7e6217c5e39"
      },
      "source": [
        "# data.frame\r\n",
        "span <- c(173, 182, 182, 178, 202)\r\n",
        "difference <- span-data\r\n",
        "table <- data.frame(span, data, difference)\r\n",
        "table\r\n",
        "class(table)"
      ],
      "execution_count": 77,
      "outputs": [
        {
          "output_type": "display_data",
          "data": {
            "text/plain": [
              "  span data difference\n",
              "1 173  171  2         \n",
              "2 182  177  5         \n",
              "3 182  178  4         \n",
              "4 178  175  3         \n",
              "5 202  202  0         "
            ],
            "text/latex": "A data.frame: 5 × 3\n\\begin{tabular}{lll}\n span & data & difference\\\\\n <dbl> & <dbl> & <dbl>\\\\\n\\hline\n\t 173 & 171 & 2\\\\\n\t 182 & 177 & 5\\\\\n\t 182 & 178 & 4\\\\\n\t 178 & 175 & 3\\\\\n\t 202 & 202 & 0\\\\\n\\end{tabular}\n",
            "text/markdown": "\nA data.frame: 5 × 3\n\n| span &lt;dbl&gt; | data &lt;dbl&gt; | difference &lt;dbl&gt; |\n|---|---|---|\n| 173 | 171 | 2 |\n| 182 | 177 | 5 |\n| 182 | 178 | 4 |\n| 178 | 175 | 3 |\n| 202 | 202 | 0 |\n\n",
            "text/html": [
              "<table class=\"dataframe\">\n",
              "<caption>A data.frame: 5 × 3</caption>\n",
              "<thead>\n",
              "\t<tr><th scope=col>span</th><th scope=col>data</th><th scope=col>difference</th></tr>\n",
              "\t<tr><th scope=col>&lt;dbl&gt;</th><th scope=col>&lt;dbl&gt;</th><th scope=col>&lt;dbl&gt;</th></tr>\n",
              "</thead>\n",
              "<tbody>\n",
              "\t<tr><td>173</td><td>171</td><td>2</td></tr>\n",
              "\t<tr><td>182</td><td>177</td><td>5</td></tr>\n",
              "\t<tr><td>182</td><td>178</td><td>4</td></tr>\n",
              "\t<tr><td>178</td><td>175</td><td>3</td></tr>\n",
              "\t<tr><td>202</td><td>202</td><td>0</td></tr>\n",
              "</tbody>\n",
              "</table>\n"
            ]
          },
          "metadata": {
            "tags": []
          }
        },
        {
          "output_type": "display_data",
          "data": {
            "text/plain": [
              "[1] \"data.frame\""
            ],
            "text/latex": "'data.frame'",
            "text/markdown": "'data.frame'",
            "text/html": [
              "'data.frame'"
            ]
          },
          "metadata": {
            "tags": []
          }
        }
      ]
    },
    {
      "cell_type": "code",
      "metadata": {
        "colab": {
          "base_uri": "https://localhost:8080/",
          "height": 791
        },
        "id": "sVZEamejPrkZ",
        "outputId": "d9fbc4fa-dcb1-4395-c066-5a1a1825ad3b"
      },
      "source": [
        "# data.frame取值[1,] [, 1]待補\r\n",
        "\"---------[列,欄位]索引---------\"\r\n",
        "table[1,3]\r\n",
        "\"---------[欄位]索引---------\"\r\n",
        "table[2]\r\n",
        "\"---------[列, ]索引---------\"\r\n",
        "table[2,]\r\n",
        "\"---------[, 欄位]索引---------\"\r\n",
        "table[, 3]\r\n",
        "\"---------欄位名稱(data.frame類型)---------\"\r\n",
        "table[\"data\"]\r\n",
        "\"---------欄位名稱(vector類型)---------\"\r\n",
        "table$span"
      ],
      "execution_count": 91,
      "outputs": [
        {
          "output_type": "display_data",
          "data": {
            "text/plain": [
              "[1] \"---------[列,欄位]索引---------\""
            ],
            "text/latex": "'---------{[}列,欄位{]}索引---------'",
            "text/markdown": "'---------[列,欄位]索引---------'",
            "text/html": [
              "'---------[列,欄位]索引---------'"
            ]
          },
          "metadata": {
            "tags": []
          }
        },
        {
          "output_type": "display_data",
          "data": {
            "text/plain": [
              "[1] 2"
            ],
            "text/latex": "2",
            "text/markdown": "2",
            "text/html": [
              "2"
            ]
          },
          "metadata": {
            "tags": []
          }
        },
        {
          "output_type": "display_data",
          "data": {
            "text/plain": [
              "[1] \"---------[欄位]索引---------\""
            ],
            "text/latex": "'---------{[}欄位{]}索引---------'",
            "text/markdown": "'---------[欄位]索引---------'",
            "text/html": [
              "'---------[欄位]索引---------'"
            ]
          },
          "metadata": {
            "tags": []
          }
        },
        {
          "output_type": "display_data",
          "data": {
            "text/plain": [
              "  data\n",
              "1 171 \n",
              "2 177 \n",
              "3 178 \n",
              "4 175 \n",
              "5 202 "
            ],
            "text/latex": "A data.frame: 5 × 1\n\\begin{tabular}{l}\n data\\\\\n <dbl>\\\\\n\\hline\n\t 171\\\\\n\t 177\\\\\n\t 178\\\\\n\t 175\\\\\n\t 202\\\\\n\\end{tabular}\n",
            "text/markdown": "\nA data.frame: 5 × 1\n\n| data &lt;dbl&gt; |\n|---|\n| 171 |\n| 177 |\n| 178 |\n| 175 |\n| 202 |\n\n",
            "text/html": [
              "<table class=\"dataframe\">\n",
              "<caption>A data.frame: 5 × 1</caption>\n",
              "<thead>\n",
              "\t<tr><th scope=col>data</th></tr>\n",
              "\t<tr><th scope=col>&lt;dbl&gt;</th></tr>\n",
              "</thead>\n",
              "<tbody>\n",
              "\t<tr><td>171</td></tr>\n",
              "\t<tr><td>177</td></tr>\n",
              "\t<tr><td>178</td></tr>\n",
              "\t<tr><td>175</td></tr>\n",
              "\t<tr><td>202</td></tr>\n",
              "</tbody>\n",
              "</table>\n"
            ]
          },
          "metadata": {
            "tags": []
          }
        },
        {
          "output_type": "display_data",
          "data": {
            "text/plain": [
              "[1] \"---------[列, ]索引---------\""
            ],
            "text/latex": "'---------{[}列, {]}索引---------'",
            "text/markdown": "'---------[列, ]索引---------'",
            "text/html": [
              "'---------[列, ]索引---------'"
            ]
          },
          "metadata": {
            "tags": []
          }
        },
        {
          "output_type": "display_data",
          "data": {
            "text/plain": [
              "  span data difference\n",
              "2 182  177  5         "
            ],
            "text/latex": "A data.frame: 1 × 3\n\\begin{tabular}{r|lll}\n  & span & data & difference\\\\\n  & <dbl> & <dbl> & <dbl>\\\\\n\\hline\n\t2 & 182 & 177 & 5\\\\\n\\end{tabular}\n",
            "text/markdown": "\nA data.frame: 1 × 3\n\n| <!--/--> | span &lt;dbl&gt; | data &lt;dbl&gt; | difference &lt;dbl&gt; |\n|---|---|---|---|\n| 2 | 182 | 177 | 5 |\n\n",
            "text/html": [
              "<table class=\"dataframe\">\n",
              "<caption>A data.frame: 1 × 3</caption>\n",
              "<thead>\n",
              "\t<tr><th></th><th scope=col>span</th><th scope=col>data</th><th scope=col>difference</th></tr>\n",
              "\t<tr><th></th><th scope=col>&lt;dbl&gt;</th><th scope=col>&lt;dbl&gt;</th><th scope=col>&lt;dbl&gt;</th></tr>\n",
              "</thead>\n",
              "<tbody>\n",
              "\t<tr><th scope=row>2</th><td>182</td><td>177</td><td>5</td></tr>\n",
              "</tbody>\n",
              "</table>\n"
            ]
          },
          "metadata": {
            "tags": []
          }
        },
        {
          "output_type": "display_data",
          "data": {
            "text/plain": [
              "[1] \"---------[, 欄位]索引---------\""
            ],
            "text/latex": "'---------{[}, 欄位{]}索引---------'",
            "text/markdown": "'---------[, 欄位]索引---------'",
            "text/html": [
              "'---------[, 欄位]索引---------'"
            ]
          },
          "metadata": {
            "tags": []
          }
        },
        {
          "output_type": "display_data",
          "data": {
            "text/plain": [
              "[1] 2 5 4 3 0"
            ],
            "text/latex": "\\begin{enumerate*}\n\\item 2\n\\item 5\n\\item 4\n\\item 3\n\\item 0\n\\end{enumerate*}\n",
            "text/markdown": "1. 2\n2. 5\n3. 4\n4. 3\n5. 0\n\n\n",
            "text/html": [
              "<style>\n",
              ".list-inline {list-style: none; margin:0; padding: 0}\n",
              ".list-inline>li {display: inline-block}\n",
              ".list-inline>li:not(:last-child)::after {content: \"\\00b7\"; padding: 0 .5ex}\n",
              "</style>\n",
              "<ol class=list-inline><li>2</li><li>5</li><li>4</li><li>3</li><li>0</li></ol>\n"
            ]
          },
          "metadata": {
            "tags": []
          }
        },
        {
          "output_type": "display_data",
          "data": {
            "text/plain": [
              "[1] \"---------欄位名稱(data.frame類型)---------\""
            ],
            "text/latex": "'---------欄位名稱(data.frame類型)---------'",
            "text/markdown": "'---------欄位名稱(data.frame類型)---------'",
            "text/html": [
              "'---------欄位名稱(data.frame類型)---------'"
            ]
          },
          "metadata": {
            "tags": []
          }
        },
        {
          "output_type": "display_data",
          "data": {
            "text/plain": [
              "  data\n",
              "1 171 \n",
              "2 177 \n",
              "3 178 \n",
              "4 175 \n",
              "5 202 "
            ],
            "text/latex": "A data.frame: 5 × 1\n\\begin{tabular}{l}\n data\\\\\n <dbl>\\\\\n\\hline\n\t 171\\\\\n\t 177\\\\\n\t 178\\\\\n\t 175\\\\\n\t 202\\\\\n\\end{tabular}\n",
            "text/markdown": "\nA data.frame: 5 × 1\n\n| data &lt;dbl&gt; |\n|---|\n| 171 |\n| 177 |\n| 178 |\n| 175 |\n| 202 |\n\n",
            "text/html": [
              "<table class=\"dataframe\">\n",
              "<caption>A data.frame: 5 × 1</caption>\n",
              "<thead>\n",
              "\t<tr><th scope=col>data</th></tr>\n",
              "\t<tr><th scope=col>&lt;dbl&gt;</th></tr>\n",
              "</thead>\n",
              "<tbody>\n",
              "\t<tr><td>171</td></tr>\n",
              "\t<tr><td>177</td></tr>\n",
              "\t<tr><td>178</td></tr>\n",
              "\t<tr><td>175</td></tr>\n",
              "\t<tr><td>202</td></tr>\n",
              "</tbody>\n",
              "</table>\n"
            ]
          },
          "metadata": {
            "tags": []
          }
        },
        {
          "output_type": "display_data",
          "data": {
            "text/plain": [
              "[1] \"---------欄位名稱(vector類型)---------\""
            ],
            "text/latex": "'---------欄位名稱(vector類型)---------'",
            "text/markdown": "'---------欄位名稱(vector類型)---------'",
            "text/html": [
              "'---------欄位名稱(vector類型)---------'"
            ]
          },
          "metadata": {
            "tags": []
          }
        },
        {
          "output_type": "display_data",
          "data": {
            "text/plain": [
              "[1] 173 182 182 178 202"
            ],
            "text/latex": "\\begin{enumerate*}\n\\item 173\n\\item 182\n\\item 182\n\\item 178\n\\item 202\n\\end{enumerate*}\n",
            "text/markdown": "1. 173\n2. 182\n3. 182\n4. 178\n5. 202\n\n\n",
            "text/html": [
              "<style>\n",
              ".list-inline {list-style: none; margin:0; padding: 0}\n",
              ".list-inline>li {display: inline-block}\n",
              ".list-inline>li:not(:last-child)::after {content: \"\\00b7\"; padding: 0 .5ex}\n",
              "</style>\n",
              "<ol class=list-inline><li>173</li><li>182</li><li>182</li><li>178</li><li>202</li></ol>\n"
            ]
          },
          "metadata": {
            "tags": []
          }
        }
      ]
    },
    {
      "cell_type": "code",
      "metadata": {
        "colab": {
          "base_uri": "https://localhost:8080/",
          "height": 474
        },
        "id": "CW3DKJCFPg4B",
        "outputId": "94dd9428-fdae-43a5-943e-20adce350c94"
      },
      "source": [
        "# 新增欄位的2個方法\r\n",
        "table[\"ratio\"] <- span/data\r\n",
        "table$ratio <- span/data\r\n",
        "# 取出單一欄位的方法, 差別在\r\n",
        "# $欄位名 是基本資料型態(向量)\r\n",
        "# [\"欄位名\"] 是data.frame型態\r\n",
        "table$ratio\r\n",
        "class(table$ratio)\r\n",
        "\r\n",
        "table[\"ratio\"]\r\n",
        "class(table[\"ratio\"])"
      ],
      "execution_count": 72,
      "outputs": [
        {
          "output_type": "display_data",
          "data": {
            "text/plain": [
              " [1] 1.0116959 1.0282486 1.0224719 1.0171429 1.0000000 1.0994152 1.1186441\n",
              " [8] 1.0393258 1.1028571 0.9207921"
            ],
            "text/latex": "\\begin{enumerate*}\n\\item 1.01169590643275\n\\item 1.02824858757062\n\\item 1.02247191011236\n\\item 1.01714285714286\n\\item 1\n\\item 1.09941520467836\n\\item 1.11864406779661\n\\item 1.03932584269663\n\\item 1.10285714285714\n\\item 0.920792079207921\n\\end{enumerate*}\n",
            "text/markdown": "1. 1.01169590643275\n2. 1.02824858757062\n3. 1.02247191011236\n4. 1.01714285714286\n5. 1\n6. 1.09941520467836\n7. 1.11864406779661\n8. 1.03932584269663\n9. 1.10285714285714\n10. 0.920792079207921\n\n\n",
            "text/html": [
              "<style>\n",
              ".list-inline {list-style: none; margin:0; padding: 0}\n",
              ".list-inline>li {display: inline-block}\n",
              ".list-inline>li:not(:last-child)::after {content: \"\\00b7\"; padding: 0 .5ex}\n",
              "</style>\n",
              "<ol class=list-inline><li>1.01169590643275</li><li>1.02824858757062</li><li>1.02247191011236</li><li>1.01714285714286</li><li>1</li><li>1.09941520467836</li><li>1.11864406779661</li><li>1.03932584269663</li><li>1.10285714285714</li><li>0.920792079207921</li></ol>\n"
            ]
          },
          "metadata": {
            "tags": []
          }
        },
        {
          "output_type": "display_data",
          "data": {
            "text/plain": [
              "[1] \"numeric\""
            ],
            "text/latex": "'numeric'",
            "text/markdown": "'numeric'",
            "text/html": [
              "'numeric'"
            ]
          },
          "metadata": {
            "tags": []
          }
        },
        {
          "output_type": "display_data",
          "data": {
            "text/plain": [
              "   ratio    \n",
              "1  1.0116959\n",
              "2  1.0282486\n",
              "3  1.0224719\n",
              "4  1.0171429\n",
              "5  1.0000000\n",
              "6  1.0994152\n",
              "7  1.1186441\n",
              "8  1.0393258\n",
              "9  1.1028571\n",
              "10 0.9207921"
            ],
            "text/latex": "A data.frame: 10 × 1\n\\begin{tabular}{l}\n ratio\\\\\n <dbl>\\\\\n\\hline\n\t 1.0116959\\\\\n\t 1.0282486\\\\\n\t 1.0224719\\\\\n\t 1.0171429\\\\\n\t 1.0000000\\\\\n\t 1.0994152\\\\\n\t 1.1186441\\\\\n\t 1.0393258\\\\\n\t 1.1028571\\\\\n\t 0.9207921\\\\\n\\end{tabular}\n",
            "text/markdown": "\nA data.frame: 10 × 1\n\n| ratio &lt;dbl&gt; |\n|---|\n| 1.0116959 |\n| 1.0282486 |\n| 1.0224719 |\n| 1.0171429 |\n| 1.0000000 |\n| 1.0994152 |\n| 1.1186441 |\n| 1.0393258 |\n| 1.1028571 |\n| 0.9207921 |\n\n",
            "text/html": [
              "<table class=\"dataframe\">\n",
              "<caption>A data.frame: 10 × 1</caption>\n",
              "<thead>\n",
              "\t<tr><th scope=col>ratio</th></tr>\n",
              "\t<tr><th scope=col>&lt;dbl&gt;</th></tr>\n",
              "</thead>\n",
              "<tbody>\n",
              "\t<tr><td>1.0116959</td></tr>\n",
              "\t<tr><td>1.0282486</td></tr>\n",
              "\t<tr><td>1.0224719</td></tr>\n",
              "\t<tr><td>1.0171429</td></tr>\n",
              "\t<tr><td>1.0000000</td></tr>\n",
              "\t<tr><td>1.0994152</td></tr>\n",
              "\t<tr><td>1.1186441</td></tr>\n",
              "\t<tr><td>1.0393258</td></tr>\n",
              "\t<tr><td>1.1028571</td></tr>\n",
              "\t<tr><td>0.9207921</td></tr>\n",
              "</tbody>\n",
              "</table>\n"
            ]
          },
          "metadata": {
            "tags": []
          }
        },
        {
          "output_type": "display_data",
          "data": {
            "text/plain": [
              "[1] \"data.frame\""
            ],
            "text/latex": "'data.frame'",
            "text/markdown": "'data.frame'",
            "text/html": [
              "'data.frame'"
            ]
          },
          "metadata": {
            "tags": []
          }
        }
      ]
    },
    {
      "cell_type": "code",
      "metadata": {
        "colab": {
          "base_uri": "https://localhost:8080/"
        },
        "id": "pdKN4_G7SPFC",
        "outputId": "f292d565-dcef-45ab-8f9a-b09a281c291f"
      },
      "source": [
        "install.packages(\"SportsAnalytics\")"
      ],
      "execution_count": 93,
      "outputs": [
        {
          "output_type": "stream",
          "text": [
            "Installing package into ‘/usr/local/lib/R/site-library’\n",
            "(as ‘lib’ is unspecified)\n",
            "\n"
          ],
          "name": "stderr"
        }
      ]
    },
    {
      "cell_type": "code",
      "metadata": {
        "id": "GQwWsuvXSfLm"
      },
      "source": [
        "library(\"SportsAnalytics\")"
      ],
      "execution_count": 94,
      "outputs": []
    },
    {
      "cell_type": "code",
      "metadata": {
        "id": "DPgTx3_iShdm"
      },
      "source": [
        "var <- fetch_NBAPlayerStatistics(\"15-16\")\r\n",
        "var\r\n",
        "#str(var)"
      ],
      "execution_count": null,
      "outputs": []
    },
    {
      "cell_type": "code",
      "metadata": {
        "colab": {
          "base_uri": "https://localhost:8080/",
          "height": 346
        },
        "id": "aatgcUp5TFQ-",
        "outputId": "77ac611d-5282-44e4-cd41-432c11933367"
      },
      "source": [
        "# 顯示前幾筆資料?\r\n",
        "head(var, n=5)"
      ],
      "execution_count": 102,
      "outputs": [
        {
          "output_type": "display_data",
          "data": {
            "text/plain": [
              "  League Name          Team Position GamesPlayed TotalMinutesPlayed\n",
              "1 NBA    Quincy Acy    SAC  SF       59           877              \n",
              "2 NBA    Jordan Adams  MEM  SG        2            15              \n",
              "3 NBA    Steven Adams  OKL  C        80          2019              \n",
              "4 NBA    Arron Afflalo NYK  SG       71          2359              \n",
              "5 NBA    Alexis Ajinca NOR  C        59           863              \n",
              "  FieldGoalsMade FieldGoalsAttempted ThreesMade ThreesAttempted ⋯ Steals\n",
              "1 119            214                 19          49             ⋯ 29    \n",
              "2   2              6                  0           1             ⋯  3    \n",
              "3 261            426                  0           0             ⋯ 42    \n",
              "4 354            799                 91         238             ⋯ 25    \n",
              "5 150            314                  0           1             ⋯ 19    \n",
              "  Turnovers Blocks PersonalFouls Disqualifications TotalPoints Technicals\n",
              "1 27        24     103           0                 307         3         \n",
              "2  2         0       2           0                   7         0         \n",
              "3 84        89     223           2                 636         2         \n",
              "4 82        10     142           1                 909         1         \n",
              "5 54        36     134           0                 352         2         \n",
              "  Ejections FlagrantFouls GamesStarted\n",
              "1 0         0             29          \n",
              "2 0         0              0          \n",
              "3 0         0             80          \n",
              "4 0         0             57          \n",
              "5 0         0             17          "
            ],
            "text/latex": "A data.frame: 5 × 25\n\\begin{tabular}{r|lllllllllllllllllllll}\n  & League & Name & Team & Position & GamesPlayed & TotalMinutesPlayed & FieldGoalsMade & FieldGoalsAttempted & ThreesMade & ThreesAttempted & ⋯ & Steals & Turnovers & Blocks & PersonalFouls & Disqualifications & TotalPoints & Technicals & Ejections & FlagrantFouls & GamesStarted\\\\\n  & <fct> & <chr> & <fct> & <fct> & <int> & <int> & <int> & <int> & <int> & <int> & ⋯ & <int> & <int> & <int> & <int> & <int> & <int> & <int> & <int> & <int> & <int>\\\\\n\\hline\n\t1 & NBA & Quincy Acy    & SAC & SF & 59 &  877 & 119 & 214 & 19 &  49 & ⋯ & 29 & 27 & 24 & 103 & 0 & 307 & 3 & 0 & 0 & 29\\\\\n\t2 & NBA & Jordan Adams  & MEM & SG &  2 &   15 &   2 &   6 &  0 &   1 & ⋯ &  3 &  2 &  0 &   2 & 0 &   7 & 0 & 0 & 0 &  0\\\\\n\t3 & NBA & Steven Adams  & OKL & C  & 80 & 2019 & 261 & 426 &  0 &   0 & ⋯ & 42 & 84 & 89 & 223 & 2 & 636 & 2 & 0 & 0 & 80\\\\\n\t4 & NBA & Arron Afflalo & NYK & SG & 71 & 2359 & 354 & 799 & 91 & 238 & ⋯ & 25 & 82 & 10 & 142 & 1 & 909 & 1 & 0 & 0 & 57\\\\\n\t5 & NBA & Alexis Ajinca & NOR & C  & 59 &  863 & 150 & 314 &  0 &   1 & ⋯ & 19 & 54 & 36 & 134 & 0 & 352 & 2 & 0 & 0 & 17\\\\\n\\end{tabular}\n",
            "text/markdown": "\nA data.frame: 5 × 25\n\n| <!--/--> | League &lt;fct&gt; | Name &lt;chr&gt; | Team &lt;fct&gt; | Position &lt;fct&gt; | GamesPlayed &lt;int&gt; | TotalMinutesPlayed &lt;int&gt; | FieldGoalsMade &lt;int&gt; | FieldGoalsAttempted &lt;int&gt; | ThreesMade &lt;int&gt; | ThreesAttempted &lt;int&gt; | ⋯ ⋯ | Steals &lt;int&gt; | Turnovers &lt;int&gt; | Blocks &lt;int&gt; | PersonalFouls &lt;int&gt; | Disqualifications &lt;int&gt; | TotalPoints &lt;int&gt; | Technicals &lt;int&gt; | Ejections &lt;int&gt; | FlagrantFouls &lt;int&gt; | GamesStarted &lt;int&gt; |\n|---|---|---|---|---|---|---|---|---|---|---|---|---|---|---|---|---|---|---|---|---|---|\n| 1 | NBA | Quincy Acy    | SAC | SF | 59 |  877 | 119 | 214 | 19 |  49 | ⋯ | 29 | 27 | 24 | 103 | 0 | 307 | 3 | 0 | 0 | 29 |\n| 2 | NBA | Jordan Adams  | MEM | SG |  2 |   15 |   2 |   6 |  0 |   1 | ⋯ |  3 |  2 |  0 |   2 | 0 |   7 | 0 | 0 | 0 |  0 |\n| 3 | NBA | Steven Adams  | OKL | C  | 80 | 2019 | 261 | 426 |  0 |   0 | ⋯ | 42 | 84 | 89 | 223 | 2 | 636 | 2 | 0 | 0 | 80 |\n| 4 | NBA | Arron Afflalo | NYK | SG | 71 | 2359 | 354 | 799 | 91 | 238 | ⋯ | 25 | 82 | 10 | 142 | 1 | 909 | 1 | 0 | 0 | 57 |\n| 5 | NBA | Alexis Ajinca | NOR | C  | 59 |  863 | 150 | 314 |  0 |   1 | ⋯ | 19 | 54 | 36 | 134 | 0 | 352 | 2 | 0 | 0 | 17 |\n\n",
            "text/html": [
              "<table class=\"dataframe\">\n",
              "<caption>A data.frame: 5 × 25</caption>\n",
              "<thead>\n",
              "\t<tr><th></th><th scope=col>League</th><th scope=col>Name</th><th scope=col>Team</th><th scope=col>Position</th><th scope=col>GamesPlayed</th><th scope=col>TotalMinutesPlayed</th><th scope=col>FieldGoalsMade</th><th scope=col>FieldGoalsAttempted</th><th scope=col>ThreesMade</th><th scope=col>ThreesAttempted</th><th scope=col>⋯</th><th scope=col>Steals</th><th scope=col>Turnovers</th><th scope=col>Blocks</th><th scope=col>PersonalFouls</th><th scope=col>Disqualifications</th><th scope=col>TotalPoints</th><th scope=col>Technicals</th><th scope=col>Ejections</th><th scope=col>FlagrantFouls</th><th scope=col>GamesStarted</th></tr>\n",
              "\t<tr><th></th><th scope=col>&lt;fct&gt;</th><th scope=col>&lt;chr&gt;</th><th scope=col>&lt;fct&gt;</th><th scope=col>&lt;fct&gt;</th><th scope=col>&lt;int&gt;</th><th scope=col>&lt;int&gt;</th><th scope=col>&lt;int&gt;</th><th scope=col>&lt;int&gt;</th><th scope=col>&lt;int&gt;</th><th scope=col>&lt;int&gt;</th><th scope=col>⋯</th><th scope=col>&lt;int&gt;</th><th scope=col>&lt;int&gt;</th><th scope=col>&lt;int&gt;</th><th scope=col>&lt;int&gt;</th><th scope=col>&lt;int&gt;</th><th scope=col>&lt;int&gt;</th><th scope=col>&lt;int&gt;</th><th scope=col>&lt;int&gt;</th><th scope=col>&lt;int&gt;</th><th scope=col>&lt;int&gt;</th></tr>\n",
              "</thead>\n",
              "<tbody>\n",
              "\t<tr><th scope=row>1</th><td>NBA</td><td>Quincy Acy   </td><td>SAC</td><td>SF</td><td>59</td><td> 877</td><td>119</td><td>214</td><td>19</td><td> 49</td><td>⋯</td><td>29</td><td>27</td><td>24</td><td>103</td><td>0</td><td>307</td><td>3</td><td>0</td><td>0</td><td>29</td></tr>\n",
              "\t<tr><th scope=row>2</th><td>NBA</td><td>Jordan Adams </td><td>MEM</td><td>SG</td><td> 2</td><td>  15</td><td>  2</td><td>  6</td><td> 0</td><td>  1</td><td>⋯</td><td> 3</td><td> 2</td><td> 0</td><td>  2</td><td>0</td><td>  7</td><td>0</td><td>0</td><td>0</td><td> 0</td></tr>\n",
              "\t<tr><th scope=row>3</th><td>NBA</td><td>Steven Adams </td><td>OKL</td><td>C </td><td>80</td><td>2019</td><td>261</td><td>426</td><td> 0</td><td>  0</td><td>⋯</td><td>42</td><td>84</td><td>89</td><td>223</td><td>2</td><td>636</td><td>2</td><td>0</td><td>0</td><td>80</td></tr>\n",
              "\t<tr><th scope=row>4</th><td>NBA</td><td>Arron Afflalo</td><td>NYK</td><td>SG</td><td>71</td><td>2359</td><td>354</td><td>799</td><td>91</td><td>238</td><td>⋯</td><td>25</td><td>82</td><td>10</td><td>142</td><td>1</td><td>909</td><td>1</td><td>0</td><td>0</td><td>57</td></tr>\n",
              "\t<tr><th scope=row>5</th><td>NBA</td><td>Alexis Ajinca</td><td>NOR</td><td>C </td><td>59</td><td> 863</td><td>150</td><td>314</td><td> 0</td><td>  1</td><td>⋯</td><td>19</td><td>54</td><td>36</td><td>134</td><td>0</td><td>352</td><td>2</td><td>0</td><td>0</td><td>17</td></tr>\n",
              "</tbody>\n",
              "</table>\n"
            ]
          },
          "metadata": {
            "tags": []
          }
        }
      ]
    },
    {
      "cell_type": "code",
      "metadata": {
        "id": "_IkjNJiST44-"
      },
      "source": [
        "#取出所有NYK隊(???)的人的資料, 使用subset()\r\n",
        "subset(var, Team==\"NYK\")"
      ],
      "execution_count": null,
      "outputs": []
    },
    {
      "cell_type": "code",
      "metadata": {
        "id": "pwmo4c_XU1O6"
      },
      "source": [
        "#取出所有NYK隊(???)的人的資料, 使用[,], 得到一個data.frame\r\n",
        "var[var[\"Team\"]==\"NYK\",]"
      ],
      "execution_count": null,
      "outputs": []
    },
    {
      "cell_type": "code",
      "metadata": {
        "colab": {
          "base_uri": "https://localhost:8080/",
          "height": 584
        },
        "id": "b6rUMyd4VpNa",
        "outputId": "cd9daa55-5ecd-44e4-a323-e7290d6ac20e"
      },
      "source": [
        "#對上面的data.frame取索引\r\n",
        "var[var[\"Team\"]==\"NYK\",][1:10,\"Name\"]\r\n",
        "var[var[\"Team\"]==\"NYK\",][\"Name\"]"
      ],
      "execution_count": 117,
      "outputs": [
        {
          "output_type": "display_data",
          "data": {
            "text/plain": [
              " [1] \"Arron Afflalo\"    \"Lou Amundson\"     \"Th Antetokounmpo\" \"Carmelo Anthony\" \n",
              " [5] \"Jose Calderon\"    \"Cleanthony Early\" \"Jimmer Fredette\"  \"Langsto Galloway\"\n",
              " [9] \"Jerian Grant\"     \"Robin Lopez\"     "
            ],
            "text/latex": "\\begin{enumerate*}\n\\item 'Arron Afflalo'\n\\item 'Lou Amundson'\n\\item 'Th Antetokounmpo'\n\\item 'Carmelo Anthony'\n\\item 'Jose Calderon'\n\\item 'Cleanthony Early'\n\\item 'Jimmer Fredette'\n\\item 'Langsto Galloway'\n\\item 'Jerian Grant'\n\\item 'Robin Lopez'\n\\end{enumerate*}\n",
            "text/markdown": "1. 'Arron Afflalo'\n2. 'Lou Amundson'\n3. 'Th Antetokounmpo'\n4. 'Carmelo Anthony'\n5. 'Jose Calderon'\n6. 'Cleanthony Early'\n7. 'Jimmer Fredette'\n8. 'Langsto Galloway'\n9. 'Jerian Grant'\n10. 'Robin Lopez'\n\n\n",
            "text/html": [
              "<style>\n",
              ".list-inline {list-style: none; margin:0; padding: 0}\n",
              ".list-inline>li {display: inline-block}\n",
              ".list-inline>li:not(:last-child)::after {content: \"\\00b7\"; padding: 0 .5ex}\n",
              "</style>\n",
              "<ol class=list-inline><li>'Arron Afflalo'</li><li>'Lou Amundson'</li><li>'Th Antetokounmpo'</li><li>'Carmelo Anthony'</li><li>'Jose Calderon'</li><li>'Cleanthony Early'</li><li>'Jimmer Fredette'</li><li>'Langsto Galloway'</li><li>'Jerian Grant'</li><li>'Robin Lopez'</li></ol>\n"
            ]
          },
          "metadata": {
            "tags": []
          }
        },
        {
          "output_type": "display_data",
          "data": {
            "text/plain": [
              "    Name            \n",
              "4   Arron Afflalo   \n",
              "12  Lou Amundson    \n",
              "20  Th Antetokounmpo\n",
              "21  Carmelo Anthony \n",
              "76  Jose Calderon   \n",
              "128 Cleanthony Early\n",
              "145 Jimmer Fredette \n",
              "148 Langsto Galloway\n",
              "165 Jerian Grant    \n",
              "272 Robin Lopez     \n",
              "337 Kyle O'quinn    \n",
              "361 Krista Porzingis\n",
              "393 Kevin Seraphin  \n",
              "423 Lance Thomas    \n",
              "443 Sasha Vujacic   \n",
              "460 Derrick Williams"
            ],
            "text/latex": "A data.frame: 16 × 1\n\\begin{tabular}{r|l}\n  & Name\\\\\n  & <chr>\\\\\n\\hline\n\t4 & Arron Afflalo   \\\\\n\t12 & Lou Amundson    \\\\\n\t20 & Th Antetokounmpo\\\\\n\t21 & Carmelo Anthony \\\\\n\t76 & Jose Calderon   \\\\\n\t128 & Cleanthony Early\\\\\n\t145 & Jimmer Fredette \\\\\n\t148 & Langsto Galloway\\\\\n\t165 & Jerian Grant    \\\\\n\t272 & Robin Lopez     \\\\\n\t337 & Kyle O'quinn    \\\\\n\t361 & Krista Porzingis\\\\\n\t393 & Kevin Seraphin  \\\\\n\t423 & Lance Thomas    \\\\\n\t443 & Sasha Vujacic   \\\\\n\t460 & Derrick Williams\\\\\n\\end{tabular}\n",
            "text/markdown": "\nA data.frame: 16 × 1\n\n| <!--/--> | Name &lt;chr&gt; |\n|---|---|\n| 4 | Arron Afflalo    |\n| 12 | Lou Amundson     |\n| 20 | Th Antetokounmpo |\n| 21 | Carmelo Anthony  |\n| 76 | Jose Calderon    |\n| 128 | Cleanthony Early |\n| 145 | Jimmer Fredette  |\n| 148 | Langsto Galloway |\n| 165 | Jerian Grant     |\n| 272 | Robin Lopez      |\n| 337 | Kyle O'quinn     |\n| 361 | Krista Porzingis |\n| 393 | Kevin Seraphin   |\n| 423 | Lance Thomas     |\n| 443 | Sasha Vujacic    |\n| 460 | Derrick Williams |\n\n",
            "text/html": [
              "<table class=\"dataframe\">\n",
              "<caption>A data.frame: 16 × 1</caption>\n",
              "<thead>\n",
              "\t<tr><th></th><th scope=col>Name</th></tr>\n",
              "\t<tr><th></th><th scope=col>&lt;chr&gt;</th></tr>\n",
              "</thead>\n",
              "<tbody>\n",
              "\t<tr><th scope=row>4</th><td>Arron Afflalo   </td></tr>\n",
              "\t<tr><th scope=row>12</th><td>Lou Amundson    </td></tr>\n",
              "\t<tr><th scope=row>20</th><td>Th Antetokounmpo</td></tr>\n",
              "\t<tr><th scope=row>21</th><td>Carmelo Anthony </td></tr>\n",
              "\t<tr><th scope=row>76</th><td>Jose Calderon   </td></tr>\n",
              "\t<tr><th scope=row>128</th><td>Cleanthony Early</td></tr>\n",
              "\t<tr><th scope=row>145</th><td>Jimmer Fredette </td></tr>\n",
              "\t<tr><th scope=row>148</th><td>Langsto Galloway</td></tr>\n",
              "\t<tr><th scope=row>165</th><td>Jerian Grant    </td></tr>\n",
              "\t<tr><th scope=row>272</th><td>Robin Lopez     </td></tr>\n",
              "\t<tr><th scope=row>337</th><td>Kyle O'quinn    </td></tr>\n",
              "\t<tr><th scope=row>361</th><td>Krista Porzingis</td></tr>\n",
              "\t<tr><th scope=row>393</th><td>Kevin Seraphin  </td></tr>\n",
              "\t<tr><th scope=row>423</th><td>Lance Thomas    </td></tr>\n",
              "\t<tr><th scope=row>443</th><td>Sasha Vujacic   </td></tr>\n",
              "\t<tr><th scope=row>460</th><td>Derrick Williams</td></tr>\n",
              "</tbody>\n",
              "</table>\n"
            ]
          },
          "metadata": {
            "tags": []
          }
        }
      ]
    }
  ]
}